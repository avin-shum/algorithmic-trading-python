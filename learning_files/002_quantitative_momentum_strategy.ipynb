{
 "cells": [
  {
   "cell_type": "markdown",
   "metadata": {},
   "source": [
    "# Quantitative Momentum Strategy\n",
    "\n",
    "\"Momentum investing\" means investing in the stocks that have increased in price the most.\n",
    "\n",
    "For this project, we're going to build an investing strategy that selects the 50 stocks with the highest price momentum. From there, we will calculate recommended trades for an equal-weight portfolio of these 50 stocks.\n",
    "\n",
    "\n",
    "## Library Imports\n",
    "\n",
    "The first thing we need to do is import the open-source software libraries that we'll be using in this tutorial."
   ]
  },
  {
   "cell_type": "code",
   "execution_count": 4,
   "metadata": {},
   "outputs": [],
   "source": [
    "import numpy as np\n",
    "import pandas as pd\n",
    "import requests\n",
    "import math\n",
    "from scipy import stats\n",
    "import xlsxwriter"
   ]
  },
  {
   "cell_type": "markdown",
   "metadata": {},
   "source": [
    "## Importing Our List of Stocks\n",
    "\n",
    "As before, we'll need to import our list of stocks and our API token before proceeding. Make sure the `.csv` file is still in your working directory and import it with the following command:"
   ]
  },
  {
   "cell_type": "code",
   "execution_count": 10,
   "metadata": {},
   "outputs": [],
   "source": [
    "stocks = pd.read_csv('sp_500_stocks.csv')\n",
    "from secrets import IEX_CLOUD_API_TOKEN"
   ]
  },
  {
   "cell_type": "markdown",
   "metadata": {},
   "source": [
    "## Making Our First API Call\n",
    "\n",
    "It's now time to make the first version of our momentum screener!\n",
    "\n",
    "We need to get one-year price returns for each stock in the universe. Here's how."
   ]
  },
  {
   "cell_type": "code",
   "execution_count": 13,
   "metadata": {},
   "outputs": [
    {
     "output_type": "execute_result",
     "data": {
      "text/plain": [
       "{'companyName': 'Apple Inc',\n",
       " 'marketcap': 2036807223300,\n",
       " 'week52high': 145.13,\n",
       " 'week52low': 54.23,\n",
       " 'week52highSplitAdjustOnly': 149.72,\n",
       " 'week52lowSplitAdjustOnly': 53.49,\n",
       " 'week52change': 1.0242639241325597,\n",
       " 'sharesOutstanding': 16954102272,\n",
       " 'float': 0,\n",
       " 'avg10Volume': 107037668,\n",
       " 'avg30Volume': 125291195,\n",
       " 'day200MovingAvg': 128.64,\n",
       " 'day50MovingAvg': 133.8,\n",
       " 'employees': 153173,\n",
       " 'ttmEPS': 3.84,\n",
       " 'ttmDividendRate': 0.8450601566075202,\n",
       " 'dividendYield': 0.007059863490456003,\n",
       " 'nextDividendDate': '0',\n",
       " 'exDividendDate': '2021-01-30',\n",
       " 'nextEarningsDate': '2021-01-13',\n",
       " 'peRatio': 33.03740289506346,\n",
       " 'beta': 1.2032891921887434,\n",
       " 'maxChangePercent': 45.59190308921584,\n",
       " 'year5ChangePercent': 3.905197730005684,\n",
       " 'year2ChangePercent': 1.661782840017262,\n",
       " 'year1ChangePercent': 0.9746728981160684,\n",
       " 'ytdChangePercent': -0.09197250225474542,\n",
       " 'month6ChangePercent': 0.13815424495279738,\n",
       " 'month3ChangePercent': -0.04774055148853722,\n",
       " 'month1ChangePercent': -0.07170809585352834,\n",
       " 'day30ChangePercent': -0.09948619634852865,\n",
       " 'day5ChangePercent': -0.01227937275898662}"
      ]
     },
     "metadata": {},
     "execution_count": 13
    }
   ],
   "source": [
    "symbol = 'AAPL'\n",
    "api_url = f'https://sandbox.iexapis.com/stable/stock/{symbol}/stats?token={IEX_CLOUD_API_TOKEN}'\n",
    "data = requests.get(api_url).json()\n",
    "data"
   ]
  },
  {
   "cell_type": "markdown",
   "metadata": {},
   "source": [
    "## Parsing Our API Call\n",
    "\n",
    "This API call has all the information we need. We can parse it using the same square-bracket notation as in the first project of this course. Here is an example."
   ]
  },
  {
   "cell_type": "code",
   "execution_count": 14,
   "metadata": {},
   "outputs": [
    {
     "output_type": "execute_result",
     "data": {
      "text/plain": [
       "0.9746728981160684"
      ]
     },
     "metadata": {},
     "execution_count": 14
    }
   ],
   "source": [
    "data['year1ChangePercent']"
   ]
  },
  {
   "cell_type": "markdown",
   "metadata": {},
   "source": [
    "## Executing A Batch API Call & Building Our DataFrame\n",
    "\n",
    "Just like in our first project, it's now time to execute several batch API calls and add the information we need to our DataFrame.\n",
    "\n",
    "We'll start by running the following code cell, which contains some code we already built last time that we can re-use for this project. More specifically, it contains a function called `chunks` that we can use to divide our list of securities into groups of 100."
   ]
  },
  {
   "cell_type": "code",
   "execution_count": 15,
   "metadata": {},
   "outputs": [],
   "source": [
    "# Function sourced from \n",
    "# https://stackoverflow.com/questions/312443/how-do-you-split-a-list-into-evenly-sized-chunks\n",
    "def chunks(lst, n):\n",
    "    \"\"\"Yield successive n-sized chunks from lst.\"\"\"\n",
    "    for i in range(0, len(lst), n):\n",
    "        yield lst[i:i + n]   \n",
    "        \n",
    "symbol_groups = list(chunks(stocks['Ticker'], 100))\n",
    "symbol_strings = []\n",
    "for i in range(0, len(symbol_groups)):\n",
    "    symbol_strings.append(','.join(symbol_groups[i]))\n",
    "#     print(symbol_strings[i])\n",
    "\n",
    "my_columns = ['Ticker', 'Price', 'One-Year Price Return', 'Number of Shares to Buy']"
   ]
  },
  {
   "cell_type": "markdown",
   "metadata": {},
   "source": [
    "Now we need to create a blank DataFrame and add our data to the data frame one-by-one."
   ]
  },
  {
   "cell_type": "code",
   "execution_count": 33,
   "metadata": {
    "tags": []
   },
   "outputs": [
    {
     "output_type": "execute_result",
     "data": {
      "text/plain": [
       "    Ticker   Price One-Year Price Return Number of Shares to Buy\n",
       "0        A  128.26              0.825809                     N/A\n",
       "1      AAL   24.70              1.139959                     N/A\n",
       "2      AAP  184.02              1.128243                     N/A\n",
       "3     AAPL  121.14              1.000569                     N/A\n",
       "4     ABBV  104.65              0.539231                     N/A\n",
       "..     ...     ...                   ...                     ...\n",
       "500    YUM  112.73              0.820146                     N/A\n",
       "501    ZBH  160.64              1.015334                     N/A\n",
       "502   ZBRA  482.28              1.495846                     N/A\n",
       "503   ZION   58.20              1.186492                     N/A\n",
       "504    ZTS  154.00              0.468447                     N/A\n",
       "\n",
       "[505 rows x 4 columns]"
      ],
      "text/html": "<div>\n<style scoped>\n    .dataframe tbody tr th:only-of-type {\n        vertical-align: middle;\n    }\n\n    .dataframe tbody tr th {\n        vertical-align: top;\n    }\n\n    .dataframe thead th {\n        text-align: right;\n    }\n</style>\n<table border=\"1\" class=\"dataframe\">\n  <thead>\n    <tr style=\"text-align: right;\">\n      <th></th>\n      <th>Ticker</th>\n      <th>Price</th>\n      <th>One-Year Price Return</th>\n      <th>Number of Shares to Buy</th>\n    </tr>\n  </thead>\n  <tbody>\n    <tr>\n      <th>0</th>\n      <td>A</td>\n      <td>128.26</td>\n      <td>0.825809</td>\n      <td>N/A</td>\n    </tr>\n    <tr>\n      <th>1</th>\n      <td>AAL</td>\n      <td>24.70</td>\n      <td>1.139959</td>\n      <td>N/A</td>\n    </tr>\n    <tr>\n      <th>2</th>\n      <td>AAP</td>\n      <td>184.02</td>\n      <td>1.128243</td>\n      <td>N/A</td>\n    </tr>\n    <tr>\n      <th>3</th>\n      <td>AAPL</td>\n      <td>121.14</td>\n      <td>1.000569</td>\n      <td>N/A</td>\n    </tr>\n    <tr>\n      <th>4</th>\n      <td>ABBV</td>\n      <td>104.65</td>\n      <td>0.539231</td>\n      <td>N/A</td>\n    </tr>\n    <tr>\n      <th>...</th>\n      <td>...</td>\n      <td>...</td>\n      <td>...</td>\n      <td>...</td>\n    </tr>\n    <tr>\n      <th>500</th>\n      <td>YUM</td>\n      <td>112.73</td>\n      <td>0.820146</td>\n      <td>N/A</td>\n    </tr>\n    <tr>\n      <th>501</th>\n      <td>ZBH</td>\n      <td>160.64</td>\n      <td>1.015334</td>\n      <td>N/A</td>\n    </tr>\n    <tr>\n      <th>502</th>\n      <td>ZBRA</td>\n      <td>482.28</td>\n      <td>1.495846</td>\n      <td>N/A</td>\n    </tr>\n    <tr>\n      <th>503</th>\n      <td>ZION</td>\n      <td>58.20</td>\n      <td>1.186492</td>\n      <td>N/A</td>\n    </tr>\n    <tr>\n      <th>504</th>\n      <td>ZTS</td>\n      <td>154.00</td>\n      <td>0.468447</td>\n      <td>N/A</td>\n    </tr>\n  </tbody>\n</table>\n<p>505 rows × 4 columns</p>\n</div>"
     },
     "metadata": {},
     "execution_count": 33
    }
   ],
   "source": [
    "final_dataframe = pd.DataFrame(columns=my_columns)\n",
    "\n",
    "for symbol_string in symbol_strings:\n",
    "    batch_api_call_url = f'https://sandbox.iexapis.com/stable/stock/market/batch?symbols={symbol_string}&types=price,stats,quote&token={IEX_CLOUD_API_TOKEN}'\n",
    "    data = requests.get(batch_api_call_url).json()\n",
    "    for symbol in symbol_string.split(','):\n",
    "        final_dataframe = final_dataframe.append(\n",
    "            pd.Series(\n",
    "                [\n",
    "                    symbol,\n",
    "                    data[symbol]['price'],\n",
    "                    data[symbol]['stats']['year1ChangePercent'],\n",
    "                    'N/A'\n",
    "                ],\n",
    "                index=my_columns),\n",
    "            ignore_index=True\n",
    "        )\n",
    "final_dataframe"
   ]
  },
  {
   "cell_type": "markdown",
   "metadata": {},
   "source": [
    "## Removing Low-Momentum Stocks\n",
    "\n",
    "The investment strategy that we're building seeks to identify the 50 highest-momentum stocks in the S&P 500.\n",
    "\n",
    "Because of this, the next thing we need to do is remove all the stocks in our DataFrame that fall below this momentum threshold. We'll sort the DataFrame by the stocks' one-year price return, and drop all stocks outside the top 50.\n"
   ]
  },
  {
   "cell_type": "code",
   "execution_count": 39,
   "metadata": {},
   "outputs": [
    {
     "output_type": "stream",
     "name": "stderr",
     "text": [
      "<ipython-input-39-fe16e64e037f>:1: SettingWithCopyWarning: \nA value is trying to be set on a copy of a slice from a DataFrame\n\nSee the caveats in the documentation: https://pandas.pydata.org/pandas-docs/stable/user_guide/indexing.html#returning-a-view-versus-a-copy\n  final_dataframe.sort_values('One-Year Price Return', ascending=False, inplace=True)\n"
     ]
    },
    {
     "output_type": "execute_result",
     "data": {
      "text/plain": [
       "    index Ticker    Price One-Year Price Return Number of Shares to Buy\n",
       "0     467   VIAC   100.65              7.480781                     N/A\n",
       "1     179    FCX    35.82                5.9209                     N/A\n",
       "2     275     LB    61.95              5.400319                     N/A\n",
       "3     305    MGM    40.25              4.720802                     N/A\n",
       "4     175   FANG    77.94              4.188182                     N/A\n",
       "5     314    MOS    33.61              3.887687                     N/A\n",
       "6     212    HAL    23.19              3.874219                     N/A\n",
       "7     462    URI   320.77              3.740278                     N/A\n",
       "8      45   APTV   154.10              3.589933                     N/A\n",
       "9     148    DVN    22.77              3.408234                     N/A\n",
       "10    144    DRI   142.52              3.216288                     N/A\n",
       "11    172   EXPE   186.50              3.032249                     N/A\n",
       "12    390    RCL    92.13              2.992999                     N/A\n",
       "13    272    KSS    61.99              2.991223                     N/A\n",
       "14    208    GPS    32.22              2.963314                     N/A\n",
       "15    135  DISCA    77.07              2.822276                     N/A\n",
       "16    328   NCLH    29.65              2.777499                     N/A\n",
       "17    410   SIVB   572.20              2.675347                     N/A\n",
       "18    129    DFS    99.76              2.669374                     N/A\n",
       "19    136  DISCK    66.47               2.66306                     N/A\n",
       "20    203     GM    60.33              2.641314                     N/A\n",
       "21    352    OKE    49.00              2.615734                     N/A\n",
       "22    185   FITB    40.73              2.590827                     N/A\n",
       "23     24   ALGN   539.80               2.58177                     N/A\n",
       "24    474    VTR    56.43              2.548046                     N/A\n",
       "25     78   CARR    42.00              2.477227                     N/A\n",
       "26    128     DE   392.31              2.474752                     N/A\n",
       "27    441    TPR    47.33              2.422356                     N/A\n",
       "28    285    LNC    66.80              2.418724                     N/A\n",
       "29    315    MPC    54.09              2.390163                     N/A\n",
       "30    385    PWR    89.51              2.256986                     N/A\n",
       "31    493   WYNN   138.80              2.224851                     N/A\n",
       "32     90    CFG    46.38              2.215532                     N/A\n",
       "33    384    PVH   107.40              2.215009                     N/A\n",
       "34    278    LEN    95.96               2.18918                     N/A\n",
       "35    369     PH   325.69              2.181628                     N/A\n",
       "36    317    MRO    10.80              2.173597                     N/A\n",
       "37    101    CMG  1499.80              2.127967                     N/A\n",
       "38    426    SYF    41.46               2.11806                     N/A\n",
       "39    149    DXC    29.41              2.107923                     N/A\n",
       "40    394     RF    22.51              2.098931                     N/A\n",
       "41    158    EMN   115.30              2.088861                     N/A\n",
       "42    448   TWTR    68.05              2.087089                     N/A\n",
       "43    293    LYV    92.24              2.042043                     N/A\n",
       "44     84    CCL    28.40              2.040302                     N/A\n",
       "45     29   AMAT   118.42              2.018878                     N/A\n",
       "46    386    PXD   163.29              1.975592                     N/A\n",
       "47    106    COF   134.09              1.972309                     N/A\n",
       "48     50   AVGO   476.19              1.911678                     N/A\n",
       "49    132    DHI    83.55              1.910214                     N/A"
      ],
      "text/html": "<div>\n<style scoped>\n    .dataframe tbody tr th:only-of-type {\n        vertical-align: middle;\n    }\n\n    .dataframe tbody tr th {\n        vertical-align: top;\n    }\n\n    .dataframe thead th {\n        text-align: right;\n    }\n</style>\n<table border=\"1\" class=\"dataframe\">\n  <thead>\n    <tr style=\"text-align: right;\">\n      <th></th>\n      <th>index</th>\n      <th>Ticker</th>\n      <th>Price</th>\n      <th>One-Year Price Return</th>\n      <th>Number of Shares to Buy</th>\n    </tr>\n  </thead>\n  <tbody>\n    <tr>\n      <th>0</th>\n      <td>467</td>\n      <td>VIAC</td>\n      <td>100.65</td>\n      <td>7.480781</td>\n      <td>N/A</td>\n    </tr>\n    <tr>\n      <th>1</th>\n      <td>179</td>\n      <td>FCX</td>\n      <td>35.82</td>\n      <td>5.9209</td>\n      <td>N/A</td>\n    </tr>\n    <tr>\n      <th>2</th>\n      <td>275</td>\n      <td>LB</td>\n      <td>61.95</td>\n      <td>5.400319</td>\n      <td>N/A</td>\n    </tr>\n    <tr>\n      <th>3</th>\n      <td>305</td>\n      <td>MGM</td>\n      <td>40.25</td>\n      <td>4.720802</td>\n      <td>N/A</td>\n    </tr>\n    <tr>\n      <th>4</th>\n      <td>175</td>\n      <td>FANG</td>\n      <td>77.94</td>\n      <td>4.188182</td>\n      <td>N/A</td>\n    </tr>\n    <tr>\n      <th>5</th>\n      <td>314</td>\n      <td>MOS</td>\n      <td>33.61</td>\n      <td>3.887687</td>\n      <td>N/A</td>\n    </tr>\n    <tr>\n      <th>6</th>\n      <td>212</td>\n      <td>HAL</td>\n      <td>23.19</td>\n      <td>3.874219</td>\n      <td>N/A</td>\n    </tr>\n    <tr>\n      <th>7</th>\n      <td>462</td>\n      <td>URI</td>\n      <td>320.77</td>\n      <td>3.740278</td>\n      <td>N/A</td>\n    </tr>\n    <tr>\n      <th>8</th>\n      <td>45</td>\n      <td>APTV</td>\n      <td>154.10</td>\n      <td>3.589933</td>\n      <td>N/A</td>\n    </tr>\n    <tr>\n      <th>9</th>\n      <td>148</td>\n      <td>DVN</td>\n      <td>22.77</td>\n      <td>3.408234</td>\n      <td>N/A</td>\n    </tr>\n    <tr>\n      <th>10</th>\n      <td>144</td>\n      <td>DRI</td>\n      <td>142.52</td>\n      <td>3.216288</td>\n      <td>N/A</td>\n    </tr>\n    <tr>\n      <th>11</th>\n      <td>172</td>\n      <td>EXPE</td>\n      <td>186.50</td>\n      <td>3.032249</td>\n      <td>N/A</td>\n    </tr>\n    <tr>\n      <th>12</th>\n      <td>390</td>\n      <td>RCL</td>\n      <td>92.13</td>\n      <td>2.992999</td>\n      <td>N/A</td>\n    </tr>\n    <tr>\n      <th>13</th>\n      <td>272</td>\n      <td>KSS</td>\n      <td>61.99</td>\n      <td>2.991223</td>\n      <td>N/A</td>\n    </tr>\n    <tr>\n      <th>14</th>\n      <td>208</td>\n      <td>GPS</td>\n      <td>32.22</td>\n      <td>2.963314</td>\n      <td>N/A</td>\n    </tr>\n    <tr>\n      <th>15</th>\n      <td>135</td>\n      <td>DISCA</td>\n      <td>77.07</td>\n      <td>2.822276</td>\n      <td>N/A</td>\n    </tr>\n    <tr>\n      <th>16</th>\n      <td>328</td>\n      <td>NCLH</td>\n      <td>29.65</td>\n      <td>2.777499</td>\n      <td>N/A</td>\n    </tr>\n    <tr>\n      <th>17</th>\n      <td>410</td>\n      <td>SIVB</td>\n      <td>572.20</td>\n      <td>2.675347</td>\n      <td>N/A</td>\n    </tr>\n    <tr>\n      <th>18</th>\n      <td>129</td>\n      <td>DFS</td>\n      <td>99.76</td>\n      <td>2.669374</td>\n      <td>N/A</td>\n    </tr>\n    <tr>\n      <th>19</th>\n      <td>136</td>\n      <td>DISCK</td>\n      <td>66.47</td>\n      <td>2.66306</td>\n      <td>N/A</td>\n    </tr>\n    <tr>\n      <th>20</th>\n      <td>203</td>\n      <td>GM</td>\n      <td>60.33</td>\n      <td>2.641314</td>\n      <td>N/A</td>\n    </tr>\n    <tr>\n      <th>21</th>\n      <td>352</td>\n      <td>OKE</td>\n      <td>49.00</td>\n      <td>2.615734</td>\n      <td>N/A</td>\n    </tr>\n    <tr>\n      <th>22</th>\n      <td>185</td>\n      <td>FITB</td>\n      <td>40.73</td>\n      <td>2.590827</td>\n      <td>N/A</td>\n    </tr>\n    <tr>\n      <th>23</th>\n      <td>24</td>\n      <td>ALGN</td>\n      <td>539.80</td>\n      <td>2.58177</td>\n      <td>N/A</td>\n    </tr>\n    <tr>\n      <th>24</th>\n      <td>474</td>\n      <td>VTR</td>\n      <td>56.43</td>\n      <td>2.548046</td>\n      <td>N/A</td>\n    </tr>\n    <tr>\n      <th>25</th>\n      <td>78</td>\n      <td>CARR</td>\n      <td>42.00</td>\n      <td>2.477227</td>\n      <td>N/A</td>\n    </tr>\n    <tr>\n      <th>26</th>\n      <td>128</td>\n      <td>DE</td>\n      <td>392.31</td>\n      <td>2.474752</td>\n      <td>N/A</td>\n    </tr>\n    <tr>\n      <th>27</th>\n      <td>441</td>\n      <td>TPR</td>\n      <td>47.33</td>\n      <td>2.422356</td>\n      <td>N/A</td>\n    </tr>\n    <tr>\n      <th>28</th>\n      <td>285</td>\n      <td>LNC</td>\n      <td>66.80</td>\n      <td>2.418724</td>\n      <td>N/A</td>\n    </tr>\n    <tr>\n      <th>29</th>\n      <td>315</td>\n      <td>MPC</td>\n      <td>54.09</td>\n      <td>2.390163</td>\n      <td>N/A</td>\n    </tr>\n    <tr>\n      <th>30</th>\n      <td>385</td>\n      <td>PWR</td>\n      <td>89.51</td>\n      <td>2.256986</td>\n      <td>N/A</td>\n    </tr>\n    <tr>\n      <th>31</th>\n      <td>493</td>\n      <td>WYNN</td>\n      <td>138.80</td>\n      <td>2.224851</td>\n      <td>N/A</td>\n    </tr>\n    <tr>\n      <th>32</th>\n      <td>90</td>\n      <td>CFG</td>\n      <td>46.38</td>\n      <td>2.215532</td>\n      <td>N/A</td>\n    </tr>\n    <tr>\n      <th>33</th>\n      <td>384</td>\n      <td>PVH</td>\n      <td>107.40</td>\n      <td>2.215009</td>\n      <td>N/A</td>\n    </tr>\n    <tr>\n      <th>34</th>\n      <td>278</td>\n      <td>LEN</td>\n      <td>95.96</td>\n      <td>2.18918</td>\n      <td>N/A</td>\n    </tr>\n    <tr>\n      <th>35</th>\n      <td>369</td>\n      <td>PH</td>\n      <td>325.69</td>\n      <td>2.181628</td>\n      <td>N/A</td>\n    </tr>\n    <tr>\n      <th>36</th>\n      <td>317</td>\n      <td>MRO</td>\n      <td>10.80</td>\n      <td>2.173597</td>\n      <td>N/A</td>\n    </tr>\n    <tr>\n      <th>37</th>\n      <td>101</td>\n      <td>CMG</td>\n      <td>1499.80</td>\n      <td>2.127967</td>\n      <td>N/A</td>\n    </tr>\n    <tr>\n      <th>38</th>\n      <td>426</td>\n      <td>SYF</td>\n      <td>41.46</td>\n      <td>2.11806</td>\n      <td>N/A</td>\n    </tr>\n    <tr>\n      <th>39</th>\n      <td>149</td>\n      <td>DXC</td>\n      <td>29.41</td>\n      <td>2.107923</td>\n      <td>N/A</td>\n    </tr>\n    <tr>\n      <th>40</th>\n      <td>394</td>\n      <td>RF</td>\n      <td>22.51</td>\n      <td>2.098931</td>\n      <td>N/A</td>\n    </tr>\n    <tr>\n      <th>41</th>\n      <td>158</td>\n      <td>EMN</td>\n      <td>115.30</td>\n      <td>2.088861</td>\n      <td>N/A</td>\n    </tr>\n    <tr>\n      <th>42</th>\n      <td>448</td>\n      <td>TWTR</td>\n      <td>68.05</td>\n      <td>2.087089</td>\n      <td>N/A</td>\n    </tr>\n    <tr>\n      <th>43</th>\n      <td>293</td>\n      <td>LYV</td>\n      <td>92.24</td>\n      <td>2.042043</td>\n      <td>N/A</td>\n    </tr>\n    <tr>\n      <th>44</th>\n      <td>84</td>\n      <td>CCL</td>\n      <td>28.40</td>\n      <td>2.040302</td>\n      <td>N/A</td>\n    </tr>\n    <tr>\n      <th>45</th>\n      <td>29</td>\n      <td>AMAT</td>\n      <td>118.42</td>\n      <td>2.018878</td>\n      <td>N/A</td>\n    </tr>\n    <tr>\n      <th>46</th>\n      <td>386</td>\n      <td>PXD</td>\n      <td>163.29</td>\n      <td>1.975592</td>\n      <td>N/A</td>\n    </tr>\n    <tr>\n      <th>47</th>\n      <td>106</td>\n      <td>COF</td>\n      <td>134.09</td>\n      <td>1.972309</td>\n      <td>N/A</td>\n    </tr>\n    <tr>\n      <th>48</th>\n      <td>50</td>\n      <td>AVGO</td>\n      <td>476.19</td>\n      <td>1.911678</td>\n      <td>N/A</td>\n    </tr>\n    <tr>\n      <th>49</th>\n      <td>132</td>\n      <td>DHI</td>\n      <td>83.55</td>\n      <td>1.910214</td>\n      <td>N/A</td>\n    </tr>\n  </tbody>\n</table>\n</div>"
     },
     "metadata": {},
     "execution_count": 39
    }
   ],
   "source": [
    "final_dataframe.sort_values('One-Year Price Return', ascending=False, inplace=True)\n",
    "final_dataframe = final_dataframe[:50]\n",
    "final_dataframe.reset_index(inplace=True)\n",
    "final_dataframe"
   ]
  },
  {
   "cell_type": "markdown",
   "metadata": {},
   "source": [
    "## Calculating the Number of Shares to Buy\n",
    "\n",
    "Just like in the last project, we now need to calculate the number of shares we need to buy. The one change we're going to make is wrapping this functionality inside a function, since we'll be using it again later in this Jupyter Notebook.\n",
    "\n",
    "Since we've already done most of the work on this, try to complete the following two code cells without watching me do it first!"
   ]
  },
  {
   "cell_type": "code",
   "execution_count": null,
   "metadata": {},
   "outputs": [],
   "source": []
  },
  {
   "cell_type": "code",
   "execution_count": null,
   "metadata": {},
   "outputs": [],
   "source": []
  },
  {
   "cell_type": "markdown",
   "metadata": {},
   "source": [
    "## Building a Better (and More Realistic) Momentum Strategy\n",
    "\n",
    "Real-world quantitative investment firms differentiate between \"high quality\" and \"low quality\" momentum stocks:\n",
    "\n",
    "* High-quality momentum stocks show \"slow and steady\" outperformance over long periods of time\n",
    "* Low-quality momentum stocks might not show any momentum for a long time, and then surge upwards.\n",
    "\n",
    "The reason why high-quality momentum stocks are preferred is because low-quality momentum can often be cause by short-term news that is unlikely to be repeated in the future (such as an FDA approval for a biotechnology company).\n",
    "\n",
    "To identify high-quality momentum, we're going to build a strategy that selects stocks from the highest percentiles of: \n",
    "\n",
    "* 1-month price returns\n",
    "* 3-month price returns\n",
    "* 6-month price returns\n",
    "* 1-year price returns\n",
    "\n",
    "Let's start by building our DataFrame. You'll notice that I use the abbreviation `hqm` often. It stands for `high-quality momentum`."
   ]
  },
  {
   "cell_type": "code",
   "execution_count": null,
   "metadata": {},
   "outputs": [],
   "source": []
  },
  {
   "cell_type": "markdown",
   "metadata": {},
   "source": [
    "## Calculating Momentum Percentiles\n",
    "\n",
    "We now need to calculate momentum percentile scores for every stock in the universe. More specifically, we need to calculate percentile scores for the following metrics for every stock:\n",
    "\n",
    "* `One-Year Price Return`\n",
    "* `Six-Month Price Return`\n",
    "* `Three-Month Price Return`\n",
    "* `One-Month Price Return`\n",
    "\n",
    "Here's how we'll do this:"
   ]
  },
  {
   "cell_type": "code",
   "execution_count": null,
   "metadata": {},
   "outputs": [],
   "source": []
  },
  {
   "cell_type": "markdown",
   "metadata": {},
   "source": [
    "## Calculating the HQM Score\n",
    "\n",
    "We'll now calculate our `HQM Score`, which is the high-quality momentum score that we'll use to filter for stocks in this investing strategy.\n",
    "\n",
    "The `HQM Score` will be the arithmetic mean of the 4 momentum percentile scores that we calculated in the last section.\n",
    "\n",
    "To calculate arithmetic mean, we will use the `mean` function from Python's built-in `statistics` module."
   ]
  },
  {
   "cell_type": "code",
   "execution_count": null,
   "metadata": {},
   "outputs": [],
   "source": []
  },
  {
   "cell_type": "markdown",
   "metadata": {},
   "source": [
    "## Selecting the 50 Best Momentum Stocks\n",
    "\n",
    "As before, we can identify the 50 best momentum stocks in our universe by sorting the DataFrame on the `HQM Score` column and dropping all but the top 50 entries."
   ]
  },
  {
   "cell_type": "code",
   "execution_count": null,
   "metadata": {},
   "outputs": [],
   "source": []
  },
  {
   "cell_type": "markdown",
   "metadata": {},
   "source": [
    "## Calculating the Number of Shares to Buy\n",
    "\n",
    "We'll use the `portfolio_input` function that we created earlier to accept our portfolio size. Then we will use similar logic in a `for` loop to calculate the number of shares to buy for each stock in our investment universe."
   ]
  },
  {
   "cell_type": "code",
   "execution_count": null,
   "metadata": {},
   "outputs": [],
   "source": []
  },
  {
   "cell_type": "code",
   "execution_count": null,
   "metadata": {},
   "outputs": [],
   "source": []
  },
  {
   "cell_type": "markdown",
   "metadata": {},
   "source": [
    "## Formatting Our Excel Output\n",
    "\n",
    "We will be using the XlsxWriter library for Python to create nicely-formatted Excel files.\n",
    "\n",
    "XlsxWriter is an excellent package and offers tons of customization. However, the tradeoff for this is that the library can seem very complicated to new users. Accordingly, this section will be fairly long because I want to do a good job of explaining how XlsxWriter works."
   ]
  },
  {
   "cell_type": "code",
   "execution_count": null,
   "metadata": {},
   "outputs": [],
   "source": []
  },
  {
   "cell_type": "markdown",
   "metadata": {},
   "source": [
    "## Creating the Formats We'll Need For Our .xlsx File\n",
    "\n",
    "You'll recall from our first project that formats include colors, fonts, and also symbols like % and $. We'll need four main formats for our Excel document:\n",
    "\n",
    "* String format for tickers\n",
    "* \\$XX.XX format for stock prices\n",
    "* \\$XX,XXX format for market capitalization\n",
    "* Integer format for the number of shares to purchase\n",
    "\n",
    "Since we already built our formats in the last section of this course, I've included them below for you. Run this code cell before proceeding."
   ]
  },
  {
   "cell_type": "code",
   "execution_count": null,
   "metadata": {},
   "outputs": [],
   "source": [
    "background_color = '#0a0a23'\n",
    "font_color = '#ffffff'\n",
    "\n",
    "string_template = writer.book.add_format(\n",
    "        {\n",
    "            'font_color': font_color,\n",
    "            'bg_color': background_color,\n",
    "            'border': 1\n",
    "        }\n",
    "    )\n",
    "\n",
    "dollar_template = writer.book.add_format(\n",
    "        {\n",
    "            'num_format':'$0.00',\n",
    "            'font_color': font_color,\n",
    "            'bg_color': background_color,\n",
    "            'border': 1\n",
    "        }\n",
    "    )\n",
    "\n",
    "integer_template = writer.book.add_format(\n",
    "        {\n",
    "            'num_format':'0',\n",
    "            'font_color': font_color,\n",
    "            'bg_color': background_color,\n",
    "            'border': 1\n",
    "        }\n",
    "    )\n",
    "\n",
    "percent_template = writer.book.add_format(\n",
    "        {\n",
    "            'num_format':'0.0%',\n",
    "            'font_color': font_color,\n",
    "            'bg_color': background_color,\n",
    "            'border': 1\n",
    "        }\n",
    "    )"
   ]
  },
  {
   "cell_type": "code",
   "execution_count": null,
   "metadata": {},
   "outputs": [],
   "source": []
  },
  {
   "cell_type": "markdown",
   "metadata": {},
   "source": [
    "## Saving Our Excel Output\n",
    "\n",
    "As before, saving our Excel output is very easy:"
   ]
  },
  {
   "cell_type": "code",
   "execution_count": null,
   "metadata": {},
   "outputs": [],
   "source": []
  }
 ],
 "metadata": {
  "kernelspec": {
   "name": "python3",
   "display_name": "Python 3.9.2 64-bit ('.virtualenv')",
   "metadata": {
    "interpreter": {
     "hash": "7f9a06160b0956bfec540404d5fbd7aad081bc795e7084e6054723b5e691efe2"
    }
   }
  },
  "language_info": {
   "codemirror_mode": {
    "name": "ipython",
    "version": 3
   },
   "file_extension": ".py",
   "mimetype": "text/x-python",
   "name": "python",
   "nbconvert_exporter": "python",
   "pygments_lexer": "ipython3",
   "version": "3.9.2-final"
  }
 },
 "nbformat": 4,
 "nbformat_minor": 4
}