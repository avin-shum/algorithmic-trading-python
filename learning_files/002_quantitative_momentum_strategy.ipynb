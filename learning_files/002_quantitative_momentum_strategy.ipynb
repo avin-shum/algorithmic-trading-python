{
 "cells": [
  {
   "cell_type": "markdown",
   "metadata": {},
   "source": [
    "# Quantitative Momentum Strategy\n",
    "\n",
    "\"Momentum investing\" means investing in the stocks that have increased in price the most.\n",
    "\n",
    "For this project, we're going to build an investing strategy that selects the 50 stocks with the highest price momentum. From there, we will calculate recommended trades for an equal-weight portfolio of these 50 stocks.\n",
    "\n",
    "\n",
    "## Library Imports\n",
    "\n",
    "The first thing we need to do is import the open-source software libraries that we'll be using in this tutorial."
   ]
  },
  {
   "cell_type": "code",
   "execution_count": 13,
   "metadata": {},
   "outputs": [],
   "source": [
    "import numpy as np\n",
    "import pandas as pd\n",
    "import requests\n",
    "import math\n",
    "from scipy.stats import percentileofscore as score\n",
    "import xlsxwriter"
   ]
  },
  {
   "cell_type": "markdown",
   "metadata": {},
   "source": [
    "## Importing Our List of Stocks\n",
    "\n",
    "As before, we'll need to import our list of stocks and our API token before proceeding. Make sure the `.csv` file is still in your working directory and import it with the following command:"
   ]
  },
  {
   "cell_type": "code",
   "execution_count": 2,
   "metadata": {},
   "outputs": [],
   "source": [
    "stocks = pd.read_csv('sp_500_stocks.csv')\n",
    "from secrets import IEX_CLOUD_API_TOKEN"
   ]
  },
  {
   "cell_type": "markdown",
   "metadata": {},
   "source": [
    "## Making Our First API Call\n",
    "\n",
    "It's now time to make the first version of our momentum screener!\n",
    "\n",
    "We need to get one-year price returns for each stock in the universe. Here's how."
   ]
  },
  {
   "cell_type": "code",
   "execution_count": 3,
   "metadata": {},
   "outputs": [
    {
     "output_type": "execute_result",
     "data": {
      "text/plain": [
       "{'companyName': 'Apple Inc',\n",
       " 'marketcap': 2116760572028,\n",
       " 'week52high': 151.06,\n",
       " 'week52low': 59.82,\n",
       " 'week52highSplitAdjustOnly': 149.11,\n",
       " 'week52lowSplitAdjustOnly': 59.59,\n",
       " 'week52change': 1.021207381683669,\n",
       " 'sharesOutstanding': 17092263741,\n",
       " 'float': 0,\n",
       " 'avg10Volume': 122749172,\n",
       " 'avg30Volume': 132274354,\n",
       " 'day200MovingAvg': 126.68,\n",
       " 'day50MovingAvg': 131.7,\n",
       " 'employees': 150716,\n",
       " 'ttmEPS': 3.71,\n",
       " 'ttmDividendRate': 0.8475303821482925,\n",
       " 'dividendYield': 0.006833999163550869,\n",
       " 'nextDividendDate': '0',\n",
       " 'exDividendDate': '2021-01-29',\n",
       " 'nextEarningsDate': '2021-01-16',\n",
       " 'peRatio': 32.47419303902196,\n",
       " 'beta': 1.1928282193486355,\n",
       " 'maxChangePercent': 47.22886412566845,\n",
       " 'year5ChangePercent': 4.062676565915071,\n",
       " 'year2ChangePercent': 1.66272364697421,\n",
       " 'year1ChangePercent': 1.203243713344814,\n",
       " 'ytdChangePercent': -0.07592170488511064,\n",
       " 'month6ChangePercent': 0.15499240301813436,\n",
       " 'month3ChangePercent': -0.06397423966090225,\n",
       " 'month1ChangePercent': -0.02746804902627958,\n",
       " 'day30ChangePercent': -0.05666629953514895,\n",
       " 'day5ChangePercent': -0.0250415175223691}"
      ]
     },
     "metadata": {},
     "execution_count": 3
    }
   ],
   "source": [
    "symbol = 'AAPL'\n",
    "api_url = f'https://sandbox.iexapis.com/stable/stock/{symbol}/stats?token={IEX_CLOUD_API_TOKEN}'\n",
    "data = requests.get(api_url).json()\n",
    "data"
   ]
  },
  {
   "cell_type": "markdown",
   "metadata": {},
   "source": [
    "## Parsing Our API Call\n",
    "\n",
    "This API call has all the information we need. We can parse it using the same square-bracket notation as in the first project of this course. Here is an example."
   ]
  },
  {
   "cell_type": "code",
   "execution_count": 4,
   "metadata": {},
   "outputs": [
    {
     "output_type": "execute_result",
     "data": {
      "text/plain": [
       "1.203243713344814"
      ]
     },
     "metadata": {},
     "execution_count": 4
    }
   ],
   "source": [
    "data['year1ChangePercent']"
   ]
  },
  {
   "cell_type": "markdown",
   "metadata": {},
   "source": [
    "## Executing A Batch API Call & Building Our DataFrame\n",
    "\n",
    "Just like in our first project, it's now time to execute several batch API calls and add the information we need to our DataFrame.\n",
    "\n",
    "We'll start by running the following code cell, which contains some code we already built last time that we can re-use for this project. More specifically, it contains a function called `chunks` that we can use to divide our list of securities into groups of 100."
   ]
  },
  {
   "cell_type": "code",
   "execution_count": 5,
   "metadata": {},
   "outputs": [],
   "source": [
    "# Function sourced from \n",
    "# https://stackoverflow.com/questions/312443/how-do-you-split-a-list-into-evenly-sized-chunks\n",
    "def chunks(lst, n):\n",
    "    \"\"\"Yield successive n-sized chunks from lst.\"\"\"\n",
    "    for i in range(0, len(lst), n):\n",
    "        yield lst[i:i + n]   \n",
    "        \n",
    "symbol_groups = list(chunks(stocks['Ticker'], 100))\n",
    "symbol_strings = []\n",
    "for i in range(0, len(symbol_groups)):\n",
    "    symbol_strings.append(','.join(symbol_groups[i]))\n",
    "#     print(symbol_strings[i])\n",
    "\n",
    "my_columns = ['Ticker', 'Price', 'One-Year Price Return', 'Number of Shares to Buy']"
   ]
  },
  {
   "cell_type": "markdown",
   "metadata": {},
   "source": [
    "Now we need to create a blank DataFrame and add our data to the data frame one-by-one."
   ]
  },
  {
   "cell_type": "code",
   "execution_count": 6,
   "metadata": {
    "tags": []
   },
   "outputs": [
    {
     "output_type": "execute_result",
     "data": {
      "text/plain": [
       "    Ticker    Price One-Year Price Return Number of Shares to Buy\n",
       "0        A  126.755              0.960284                     N/A\n",
       "1      AAL   23.860              1.221025                     N/A\n",
       "2      AAP  190.600              1.321628                     N/A\n",
       "3     AAPL  122.390              1.249704                     N/A\n",
       "4     ABBV  104.600               0.73078                     N/A\n",
       "..     ...      ...                   ...                     ...\n",
       "500    YUM  112.550              0.986683                     N/A\n",
       "501    ZBH  157.160              0.949814                     N/A\n",
       "502   ZBRA  462.630              1.783361                     N/A\n",
       "503   ZION   54.988              1.332298                     N/A\n",
       "504    ZTS  159.036              0.710579                     N/A\n",
       "\n",
       "[505 rows x 4 columns]"
      ],
      "text/html": "<div>\n<style scoped>\n    .dataframe tbody tr th:only-of-type {\n        vertical-align: middle;\n    }\n\n    .dataframe tbody tr th {\n        vertical-align: top;\n    }\n\n    .dataframe thead th {\n        text-align: right;\n    }\n</style>\n<table border=\"1\" class=\"dataframe\">\n  <thead>\n    <tr style=\"text-align: right;\">\n      <th></th>\n      <th>Ticker</th>\n      <th>Price</th>\n      <th>One-Year Price Return</th>\n      <th>Number of Shares to Buy</th>\n    </tr>\n  </thead>\n  <tbody>\n    <tr>\n      <th>0</th>\n      <td>A</td>\n      <td>126.755</td>\n      <td>0.960284</td>\n      <td>N/A</td>\n    </tr>\n    <tr>\n      <th>1</th>\n      <td>AAL</td>\n      <td>23.860</td>\n      <td>1.221025</td>\n      <td>N/A</td>\n    </tr>\n    <tr>\n      <th>2</th>\n      <td>AAP</td>\n      <td>190.600</td>\n      <td>1.321628</td>\n      <td>N/A</td>\n    </tr>\n    <tr>\n      <th>3</th>\n      <td>AAPL</td>\n      <td>122.390</td>\n      <td>1.249704</td>\n      <td>N/A</td>\n    </tr>\n    <tr>\n      <th>4</th>\n      <td>ABBV</td>\n      <td>104.600</td>\n      <td>0.73078</td>\n      <td>N/A</td>\n    </tr>\n    <tr>\n      <th>...</th>\n      <td>...</td>\n      <td>...</td>\n      <td>...</td>\n      <td>...</td>\n    </tr>\n    <tr>\n      <th>500</th>\n      <td>YUM</td>\n      <td>112.550</td>\n      <td>0.986683</td>\n      <td>N/A</td>\n    </tr>\n    <tr>\n      <th>501</th>\n      <td>ZBH</td>\n      <td>157.160</td>\n      <td>0.949814</td>\n      <td>N/A</td>\n    </tr>\n    <tr>\n      <th>502</th>\n      <td>ZBRA</td>\n      <td>462.630</td>\n      <td>1.783361</td>\n      <td>N/A</td>\n    </tr>\n    <tr>\n      <th>503</th>\n      <td>ZION</td>\n      <td>54.988</td>\n      <td>1.332298</td>\n      <td>N/A</td>\n    </tr>\n    <tr>\n      <th>504</th>\n      <td>ZTS</td>\n      <td>159.036</td>\n      <td>0.710579</td>\n      <td>N/A</td>\n    </tr>\n  </tbody>\n</table>\n<p>505 rows × 4 columns</p>\n</div>"
     },
     "metadata": {},
     "execution_count": 6
    }
   ],
   "source": [
    "final_dataframe = pd.DataFrame(columns=my_columns)\n",
    "\n",
    "for symbol_string in symbol_strings:\n",
    "    batch_api_call_url = f'https://sandbox.iexapis.com/stable/stock/market/batch?symbols={symbol_string}&types=price,stats,quote&token={IEX_CLOUD_API_TOKEN}'\n",
    "    data = requests.get(batch_api_call_url).json()\n",
    "    for symbol in symbol_string.split(','):\n",
    "        final_dataframe = final_dataframe.append(\n",
    "            pd.Series(\n",
    "                [\n",
    "                    symbol,\n",
    "                    data[symbol]['price'],\n",
    "                    data[symbol]['stats']['year1ChangePercent'],\n",
    "                    'N/A'\n",
    "                ],\n",
    "                index=my_columns),\n",
    "            ignore_index=True\n",
    "        )\n",
    "final_dataframe"
   ]
  },
  {
   "cell_type": "markdown",
   "metadata": {},
   "source": [
    "## Removing Low-Momentum Stocks\n",
    "\n",
    "The investment strategy that we're building seeks to identify the 50 highest-momentum stocks in the S&P 500.\n",
    "\n",
    "Because of this, the next thing we need to do is remove all the stocks in our DataFrame that fall below this momentum threshold. We'll sort the DataFrame by the stocks' one-year price return, and drop all stocks outside the top 50.\n"
   ]
  },
  {
   "cell_type": "code",
   "execution_count": 7,
   "metadata": {},
   "outputs": [
    {
     "output_type": "execute_result",
     "data": {
      "text/plain": [
       "    index Ticker    Price One-Year Price Return Number of Shares to Buy\n",
       "0     467   VIAC   80.150              7.375964                     N/A\n",
       "1     275     LB   61.080              5.321707                     N/A\n",
       "2     179    FCX   33.630              5.146239                     N/A\n",
       "3     208    GPS   29.390              3.559999                     N/A\n",
       "4     272    KSS   58.300              3.296814                     N/A\n",
       "5     462    URI  313.830               3.26074                     N/A\n",
       "6     305    MGM   39.760              3.197255                     N/A\n",
       "7     212    HAL   22.520              3.153621                     N/A\n",
       "8     441    TPR   43.690              2.998603                     N/A\n",
       "9     135  DISCA   67.780              2.964879                     N/A\n",
       "10    136  DISCK   61.190              2.898962                     N/A\n",
       "11     24   ALGN  516.040               2.87901                     N/A\n",
       "12    175   FANG   78.778              2.775814                     N/A\n",
       "13    148    DVN   23.630              2.731779                     N/A\n",
       "14    285    LNC   61.738               2.62607                     N/A\n",
       "15     78   CARR   41.800              2.607243                     N/A\n",
       "16    385    PWR   85.060               2.58378                     N/A\n",
       "17    129    DFS   97.660              2.560295                     N/A\n",
       "18    483    WHR  216.950              2.528993                     N/A\n",
       "19    410   SIVB  513.550              2.506534                     N/A\n",
       "20    144    DRI  137.313              2.457045                     N/A\n",
       "21    314    MOS   32.040              2.445266                     N/A\n",
       "22    172   EXPE  176.750              2.402801                     N/A\n",
       "23    315    MPC   55.800              2.365727                     N/A\n",
       "24    278    LEN   99.170               2.34528                     N/A\n",
       "25    253    IVZ   24.070              2.343483                     N/A\n",
       "26    384    PVH   99.404              2.286386                     N/A\n",
       "27    128     DE  381.060              2.284287                     N/A\n",
       "28    349   NWSA   25.990              2.252475                     N/A\n",
       "29    203     GM   57.120              2.251462                     N/A\n",
       "30    369     PH  323.210              2.230593                     N/A\n",
       "31    185   FITB   37.440              2.219267                     N/A\n",
       "32    426    SYF   40.751               2.14695                     N/A\n",
       "33    317    MRO   10.900              2.121074                     N/A\n",
       "34    348    NWS   24.280              2.098678                     N/A\n",
       "35    174      F   12.570              2.072875                     N/A\n",
       "36    282    LKQ   43.910              2.035645                     N/A\n",
       "37     45   APTV  146.400              2.026869                     N/A\n",
       "38     29   AMAT  125.150              2.019307                     N/A\n",
       "39    390    RCL   87.421              2.003768                     N/A\n",
       "40     23    ALB  156.600              2.001264                     N/A\n",
       "41    318     MS   82.510              1.982426                     N/A\n",
       "42    106    COF  126.000              1.963547                     N/A\n",
       "43    158    EMN  112.290              1.940791                     N/A\n",
       "44    288   LRCX  561.920              1.938554                     N/A\n",
       "45    306    MHK  187.430              1.916764                     N/A\n",
       "46    387   PYPL  248.810              1.895237                     N/A\n",
       "47    132    DHI   85.320              1.892309                     N/A\n",
       "48     90    CFG   44.960              1.840247                     N/A\n",
       "49    453    UAA   23.507              1.822771                     N/A"
      ],
      "text/html": "<div>\n<style scoped>\n    .dataframe tbody tr th:only-of-type {\n        vertical-align: middle;\n    }\n\n    .dataframe tbody tr th {\n        vertical-align: top;\n    }\n\n    .dataframe thead th {\n        text-align: right;\n    }\n</style>\n<table border=\"1\" class=\"dataframe\">\n  <thead>\n    <tr style=\"text-align: right;\">\n      <th></th>\n      <th>index</th>\n      <th>Ticker</th>\n      <th>Price</th>\n      <th>One-Year Price Return</th>\n      <th>Number of Shares to Buy</th>\n    </tr>\n  </thead>\n  <tbody>\n    <tr>\n      <th>0</th>\n      <td>467</td>\n      <td>VIAC</td>\n      <td>80.150</td>\n      <td>7.375964</td>\n      <td>N/A</td>\n    </tr>\n    <tr>\n      <th>1</th>\n      <td>275</td>\n      <td>LB</td>\n      <td>61.080</td>\n      <td>5.321707</td>\n      <td>N/A</td>\n    </tr>\n    <tr>\n      <th>2</th>\n      <td>179</td>\n      <td>FCX</td>\n      <td>33.630</td>\n      <td>5.146239</td>\n      <td>N/A</td>\n    </tr>\n    <tr>\n      <th>3</th>\n      <td>208</td>\n      <td>GPS</td>\n      <td>29.390</td>\n      <td>3.559999</td>\n      <td>N/A</td>\n    </tr>\n    <tr>\n      <th>4</th>\n      <td>272</td>\n      <td>KSS</td>\n      <td>58.300</td>\n      <td>3.296814</td>\n      <td>N/A</td>\n    </tr>\n    <tr>\n      <th>5</th>\n      <td>462</td>\n      <td>URI</td>\n      <td>313.830</td>\n      <td>3.26074</td>\n      <td>N/A</td>\n    </tr>\n    <tr>\n      <th>6</th>\n      <td>305</td>\n      <td>MGM</td>\n      <td>39.760</td>\n      <td>3.197255</td>\n      <td>N/A</td>\n    </tr>\n    <tr>\n      <th>7</th>\n      <td>212</td>\n      <td>HAL</td>\n      <td>22.520</td>\n      <td>3.153621</td>\n      <td>N/A</td>\n    </tr>\n    <tr>\n      <th>8</th>\n      <td>441</td>\n      <td>TPR</td>\n      <td>43.690</td>\n      <td>2.998603</td>\n      <td>N/A</td>\n    </tr>\n    <tr>\n      <th>9</th>\n      <td>135</td>\n      <td>DISCA</td>\n      <td>67.780</td>\n      <td>2.964879</td>\n      <td>N/A</td>\n    </tr>\n    <tr>\n      <th>10</th>\n      <td>136</td>\n      <td>DISCK</td>\n      <td>61.190</td>\n      <td>2.898962</td>\n      <td>N/A</td>\n    </tr>\n    <tr>\n      <th>11</th>\n      <td>24</td>\n      <td>ALGN</td>\n      <td>516.040</td>\n      <td>2.87901</td>\n      <td>N/A</td>\n    </tr>\n    <tr>\n      <th>12</th>\n      <td>175</td>\n      <td>FANG</td>\n      <td>78.778</td>\n      <td>2.775814</td>\n      <td>N/A</td>\n    </tr>\n    <tr>\n      <th>13</th>\n      <td>148</td>\n      <td>DVN</td>\n      <td>23.630</td>\n      <td>2.731779</td>\n      <td>N/A</td>\n    </tr>\n    <tr>\n      <th>14</th>\n      <td>285</td>\n      <td>LNC</td>\n      <td>61.738</td>\n      <td>2.62607</td>\n      <td>N/A</td>\n    </tr>\n    <tr>\n      <th>15</th>\n      <td>78</td>\n      <td>CARR</td>\n      <td>41.800</td>\n      <td>2.607243</td>\n      <td>N/A</td>\n    </tr>\n    <tr>\n      <th>16</th>\n      <td>385</td>\n      <td>PWR</td>\n      <td>85.060</td>\n      <td>2.58378</td>\n      <td>N/A</td>\n    </tr>\n    <tr>\n      <th>17</th>\n      <td>129</td>\n      <td>DFS</td>\n      <td>97.660</td>\n      <td>2.560295</td>\n      <td>N/A</td>\n    </tr>\n    <tr>\n      <th>18</th>\n      <td>483</td>\n      <td>WHR</td>\n      <td>216.950</td>\n      <td>2.528993</td>\n      <td>N/A</td>\n    </tr>\n    <tr>\n      <th>19</th>\n      <td>410</td>\n      <td>SIVB</td>\n      <td>513.550</td>\n      <td>2.506534</td>\n      <td>N/A</td>\n    </tr>\n    <tr>\n      <th>20</th>\n      <td>144</td>\n      <td>DRI</td>\n      <td>137.313</td>\n      <td>2.457045</td>\n      <td>N/A</td>\n    </tr>\n    <tr>\n      <th>21</th>\n      <td>314</td>\n      <td>MOS</td>\n      <td>32.040</td>\n      <td>2.445266</td>\n      <td>N/A</td>\n    </tr>\n    <tr>\n      <th>22</th>\n      <td>172</td>\n      <td>EXPE</td>\n      <td>176.750</td>\n      <td>2.402801</td>\n      <td>N/A</td>\n    </tr>\n    <tr>\n      <th>23</th>\n      <td>315</td>\n      <td>MPC</td>\n      <td>55.800</td>\n      <td>2.365727</td>\n      <td>N/A</td>\n    </tr>\n    <tr>\n      <th>24</th>\n      <td>278</td>\n      <td>LEN</td>\n      <td>99.170</td>\n      <td>2.34528</td>\n      <td>N/A</td>\n    </tr>\n    <tr>\n      <th>25</th>\n      <td>253</td>\n      <td>IVZ</td>\n      <td>24.070</td>\n      <td>2.343483</td>\n      <td>N/A</td>\n    </tr>\n    <tr>\n      <th>26</th>\n      <td>384</td>\n      <td>PVH</td>\n      <td>99.404</td>\n      <td>2.286386</td>\n      <td>N/A</td>\n    </tr>\n    <tr>\n      <th>27</th>\n      <td>128</td>\n      <td>DE</td>\n      <td>381.060</td>\n      <td>2.284287</td>\n      <td>N/A</td>\n    </tr>\n    <tr>\n      <th>28</th>\n      <td>349</td>\n      <td>NWSA</td>\n      <td>25.990</td>\n      <td>2.252475</td>\n      <td>N/A</td>\n    </tr>\n    <tr>\n      <th>29</th>\n      <td>203</td>\n      <td>GM</td>\n      <td>57.120</td>\n      <td>2.251462</td>\n      <td>N/A</td>\n    </tr>\n    <tr>\n      <th>30</th>\n      <td>369</td>\n      <td>PH</td>\n      <td>323.210</td>\n      <td>2.230593</td>\n      <td>N/A</td>\n    </tr>\n    <tr>\n      <th>31</th>\n      <td>185</td>\n      <td>FITB</td>\n      <td>37.440</td>\n      <td>2.219267</td>\n      <td>N/A</td>\n    </tr>\n    <tr>\n      <th>32</th>\n      <td>426</td>\n      <td>SYF</td>\n      <td>40.751</td>\n      <td>2.14695</td>\n      <td>N/A</td>\n    </tr>\n    <tr>\n      <th>33</th>\n      <td>317</td>\n      <td>MRO</td>\n      <td>10.900</td>\n      <td>2.121074</td>\n      <td>N/A</td>\n    </tr>\n    <tr>\n      <th>34</th>\n      <td>348</td>\n      <td>NWS</td>\n      <td>24.280</td>\n      <td>2.098678</td>\n      <td>N/A</td>\n    </tr>\n    <tr>\n      <th>35</th>\n      <td>174</td>\n      <td>F</td>\n      <td>12.570</td>\n      <td>2.072875</td>\n      <td>N/A</td>\n    </tr>\n    <tr>\n      <th>36</th>\n      <td>282</td>\n      <td>LKQ</td>\n      <td>43.910</td>\n      <td>2.035645</td>\n      <td>N/A</td>\n    </tr>\n    <tr>\n      <th>37</th>\n      <td>45</td>\n      <td>APTV</td>\n      <td>146.400</td>\n      <td>2.026869</td>\n      <td>N/A</td>\n    </tr>\n    <tr>\n      <th>38</th>\n      <td>29</td>\n      <td>AMAT</td>\n      <td>125.150</td>\n      <td>2.019307</td>\n      <td>N/A</td>\n    </tr>\n    <tr>\n      <th>39</th>\n      <td>390</td>\n      <td>RCL</td>\n      <td>87.421</td>\n      <td>2.003768</td>\n      <td>N/A</td>\n    </tr>\n    <tr>\n      <th>40</th>\n      <td>23</td>\n      <td>ALB</td>\n      <td>156.600</td>\n      <td>2.001264</td>\n      <td>N/A</td>\n    </tr>\n    <tr>\n      <th>41</th>\n      <td>318</td>\n      <td>MS</td>\n      <td>82.510</td>\n      <td>1.982426</td>\n      <td>N/A</td>\n    </tr>\n    <tr>\n      <th>42</th>\n      <td>106</td>\n      <td>COF</td>\n      <td>126.000</td>\n      <td>1.963547</td>\n      <td>N/A</td>\n    </tr>\n    <tr>\n      <th>43</th>\n      <td>158</td>\n      <td>EMN</td>\n      <td>112.290</td>\n      <td>1.940791</td>\n      <td>N/A</td>\n    </tr>\n    <tr>\n      <th>44</th>\n      <td>288</td>\n      <td>LRCX</td>\n      <td>561.920</td>\n      <td>1.938554</td>\n      <td>N/A</td>\n    </tr>\n    <tr>\n      <th>45</th>\n      <td>306</td>\n      <td>MHK</td>\n      <td>187.430</td>\n      <td>1.916764</td>\n      <td>N/A</td>\n    </tr>\n    <tr>\n      <th>46</th>\n      <td>387</td>\n      <td>PYPL</td>\n      <td>248.810</td>\n      <td>1.895237</td>\n      <td>N/A</td>\n    </tr>\n    <tr>\n      <th>47</th>\n      <td>132</td>\n      <td>DHI</td>\n      <td>85.320</td>\n      <td>1.892309</td>\n      <td>N/A</td>\n    </tr>\n    <tr>\n      <th>48</th>\n      <td>90</td>\n      <td>CFG</td>\n      <td>44.960</td>\n      <td>1.840247</td>\n      <td>N/A</td>\n    </tr>\n    <tr>\n      <th>49</th>\n      <td>453</td>\n      <td>UAA</td>\n      <td>23.507</td>\n      <td>1.822771</td>\n      <td>N/A</td>\n    </tr>\n  </tbody>\n</table>\n</div>"
     },
     "metadata": {},
     "execution_count": 7
    }
   ],
   "source": [
    "final_dataframe.sort_values('One-Year Price Return', ascending=False, inplace=True)\n",
    "final_dataframe = final_dataframe[:50]\n",
    "final_dataframe.reset_index(inplace=True)\n",
    "final_dataframe"
   ]
  },
  {
   "cell_type": "markdown",
   "metadata": {},
   "source": [
    "## Calculating the Number of Shares to Buy\n",
    "\n",
    "Just like in the last project, we now need to calculate the number of shares we need to buy. The one change we're going to make is wrapping this functionality inside a function, since we'll be using it again later in this Jupyter Notebook.\n",
    "\n",
    "Since we've already done most of the work on this, try to complete the following two code cells without watching me do it first!"
   ]
  },
  {
   "cell_type": "code",
   "execution_count": 8,
   "metadata": {},
   "outputs": [
    {
     "output_type": "execute_result",
     "data": {
      "text/plain": [
       "'10000000'"
      ]
     },
     "metadata": {},
     "execution_count": 8
    }
   ],
   "source": [
    "def portfolio_input():\n",
    "    global portfolio_size\n",
    "    portfolio_size = input('Enter the size of your portfolio:')\n",
    "\n",
    "    try:\n",
    "        float(portfolio_size)\n",
    "    except ValueError:\n",
    "        print('That is not a number! \\nPlease try again')\n",
    "        portfolio_size = input('Enter the size of your portfolio:')\n",
    "portfolio_input()\n",
    "portfolio_size"
   ]
  },
  {
   "cell_type": "code",
   "execution_count": 9,
   "metadata": {},
   "outputs": [
    {
     "output_type": "stream",
     "name": "stdout",
     "text": [
      "200000.0\n",
      "d:\\tutorial\\algorithmic-trading-python\\.virtualenv\\lib\\site-packages\\pandas\\core\\indexing.py:1720: SettingWithCopyWarning: \n",
      "A value is trying to be set on a copy of a slice from a DataFrame.\n",
      "Try using .loc[row_indexer,col_indexer] = value instead\n",
      "\n",
      "See the caveats in the documentation: https://pandas.pydata.org/pandas-docs/stable/user_guide/indexing.html#returning-a-view-versus-a-copy\n",
      "  self._setitem_single_column(loc, value, pi)\n"
     ]
    },
    {
     "output_type": "execute_result",
     "data": {
      "text/plain": [
       "    index Ticker    Price One-Year Price Return Number of Shares to Buy\n",
       "0     467   VIAC   80.150              7.375964                    2495\n",
       "1     275     LB   61.080              5.321707                    3274\n",
       "2     179    FCX   33.630              5.146239                    5947\n",
       "3     208    GPS   29.390              3.559999                    6805\n",
       "4     272    KSS   58.300              3.296814                    3430\n",
       "5     462    URI  313.830               3.26074                     637\n",
       "6     305    MGM   39.760              3.197255                    5030\n",
       "7     212    HAL   22.520              3.153621                    8880\n",
       "8     441    TPR   43.690              2.998603                    4577\n",
       "9     135  DISCA   67.780              2.964879                    2950\n",
       "10    136  DISCK   61.190              2.898962                    3268\n",
       "11     24   ALGN  516.040               2.87901                     387\n",
       "12    175   FANG   78.778              2.775814                    2538\n",
       "13    148    DVN   23.630              2.731779                    8463\n",
       "14    285    LNC   61.738               2.62607                    3239\n",
       "15     78   CARR   41.800              2.607243                    4784\n",
       "16    385    PWR   85.060               2.58378                    2351\n",
       "17    129    DFS   97.660              2.560295                    2047\n",
       "18    483    WHR  216.950              2.528993                     921\n",
       "19    410   SIVB  513.550              2.506534                     389\n",
       "20    144    DRI  137.313              2.457045                    1456\n",
       "21    314    MOS   32.040              2.445266                    6242\n",
       "22    172   EXPE  176.750              2.402801                    1131\n",
       "23    315    MPC   55.800              2.365727                    3584\n",
       "24    278    LEN   99.170               2.34528                    2016\n",
       "25    253    IVZ   24.070              2.343483                    8309\n",
       "26    384    PVH   99.404              2.286386                    2011\n",
       "27    128     DE  381.060              2.284287                     524\n",
       "28    349   NWSA   25.990              2.252475                    7695\n",
       "29    203     GM   57.120              2.251462                    3501\n",
       "30    369     PH  323.210              2.230593                     618\n",
       "31    185   FITB   37.440              2.219267                    5341\n",
       "32    426    SYF   40.751               2.14695                    4907\n",
       "33    317    MRO   10.900              2.121074                   18348\n",
       "34    348    NWS   24.280              2.098678                    8237\n",
       "35    174      F   12.570              2.072875                   15910\n",
       "36    282    LKQ   43.910              2.035645                    4554\n",
       "37     45   APTV  146.400              2.026869                    1366\n",
       "38     29   AMAT  125.150              2.019307                    1598\n",
       "39    390    RCL   87.421              2.003768                    2287\n",
       "40     23    ALB  156.600              2.001264                    1277\n",
       "41    318     MS   82.510              1.982426                    2423\n",
       "42    106    COF  126.000              1.963547                    1587\n",
       "43    158    EMN  112.290              1.940791                    1781\n",
       "44    288   LRCX  561.920              1.938554                     355\n",
       "45    306    MHK  187.430              1.916764                    1067\n",
       "46    387   PYPL  248.810              1.895237                     803\n",
       "47    132    DHI   85.320              1.892309                    2344\n",
       "48     90    CFG   44.960              1.840247                    4448\n",
       "49    453    UAA   23.507              1.822771                    8508"
      ],
      "text/html": "<div>\n<style scoped>\n    .dataframe tbody tr th:only-of-type {\n        vertical-align: middle;\n    }\n\n    .dataframe tbody tr th {\n        vertical-align: top;\n    }\n\n    .dataframe thead th {\n        text-align: right;\n    }\n</style>\n<table border=\"1\" class=\"dataframe\">\n  <thead>\n    <tr style=\"text-align: right;\">\n      <th></th>\n      <th>index</th>\n      <th>Ticker</th>\n      <th>Price</th>\n      <th>One-Year Price Return</th>\n      <th>Number of Shares to Buy</th>\n    </tr>\n  </thead>\n  <tbody>\n    <tr>\n      <th>0</th>\n      <td>467</td>\n      <td>VIAC</td>\n      <td>80.150</td>\n      <td>7.375964</td>\n      <td>2495</td>\n    </tr>\n    <tr>\n      <th>1</th>\n      <td>275</td>\n      <td>LB</td>\n      <td>61.080</td>\n      <td>5.321707</td>\n      <td>3274</td>\n    </tr>\n    <tr>\n      <th>2</th>\n      <td>179</td>\n      <td>FCX</td>\n      <td>33.630</td>\n      <td>5.146239</td>\n      <td>5947</td>\n    </tr>\n    <tr>\n      <th>3</th>\n      <td>208</td>\n      <td>GPS</td>\n      <td>29.390</td>\n      <td>3.559999</td>\n      <td>6805</td>\n    </tr>\n    <tr>\n      <th>4</th>\n      <td>272</td>\n      <td>KSS</td>\n      <td>58.300</td>\n      <td>3.296814</td>\n      <td>3430</td>\n    </tr>\n    <tr>\n      <th>5</th>\n      <td>462</td>\n      <td>URI</td>\n      <td>313.830</td>\n      <td>3.26074</td>\n      <td>637</td>\n    </tr>\n    <tr>\n      <th>6</th>\n      <td>305</td>\n      <td>MGM</td>\n      <td>39.760</td>\n      <td>3.197255</td>\n      <td>5030</td>\n    </tr>\n    <tr>\n      <th>7</th>\n      <td>212</td>\n      <td>HAL</td>\n      <td>22.520</td>\n      <td>3.153621</td>\n      <td>8880</td>\n    </tr>\n    <tr>\n      <th>8</th>\n      <td>441</td>\n      <td>TPR</td>\n      <td>43.690</td>\n      <td>2.998603</td>\n      <td>4577</td>\n    </tr>\n    <tr>\n      <th>9</th>\n      <td>135</td>\n      <td>DISCA</td>\n      <td>67.780</td>\n      <td>2.964879</td>\n      <td>2950</td>\n    </tr>\n    <tr>\n      <th>10</th>\n      <td>136</td>\n      <td>DISCK</td>\n      <td>61.190</td>\n      <td>2.898962</td>\n      <td>3268</td>\n    </tr>\n    <tr>\n      <th>11</th>\n      <td>24</td>\n      <td>ALGN</td>\n      <td>516.040</td>\n      <td>2.87901</td>\n      <td>387</td>\n    </tr>\n    <tr>\n      <th>12</th>\n      <td>175</td>\n      <td>FANG</td>\n      <td>78.778</td>\n      <td>2.775814</td>\n      <td>2538</td>\n    </tr>\n    <tr>\n      <th>13</th>\n      <td>148</td>\n      <td>DVN</td>\n      <td>23.630</td>\n      <td>2.731779</td>\n      <td>8463</td>\n    </tr>\n    <tr>\n      <th>14</th>\n      <td>285</td>\n      <td>LNC</td>\n      <td>61.738</td>\n      <td>2.62607</td>\n      <td>3239</td>\n    </tr>\n    <tr>\n      <th>15</th>\n      <td>78</td>\n      <td>CARR</td>\n      <td>41.800</td>\n      <td>2.607243</td>\n      <td>4784</td>\n    </tr>\n    <tr>\n      <th>16</th>\n      <td>385</td>\n      <td>PWR</td>\n      <td>85.060</td>\n      <td>2.58378</td>\n      <td>2351</td>\n    </tr>\n    <tr>\n      <th>17</th>\n      <td>129</td>\n      <td>DFS</td>\n      <td>97.660</td>\n      <td>2.560295</td>\n      <td>2047</td>\n    </tr>\n    <tr>\n      <th>18</th>\n      <td>483</td>\n      <td>WHR</td>\n      <td>216.950</td>\n      <td>2.528993</td>\n      <td>921</td>\n    </tr>\n    <tr>\n      <th>19</th>\n      <td>410</td>\n      <td>SIVB</td>\n      <td>513.550</td>\n      <td>2.506534</td>\n      <td>389</td>\n    </tr>\n    <tr>\n      <th>20</th>\n      <td>144</td>\n      <td>DRI</td>\n      <td>137.313</td>\n      <td>2.457045</td>\n      <td>1456</td>\n    </tr>\n    <tr>\n      <th>21</th>\n      <td>314</td>\n      <td>MOS</td>\n      <td>32.040</td>\n      <td>2.445266</td>\n      <td>6242</td>\n    </tr>\n    <tr>\n      <th>22</th>\n      <td>172</td>\n      <td>EXPE</td>\n      <td>176.750</td>\n      <td>2.402801</td>\n      <td>1131</td>\n    </tr>\n    <tr>\n      <th>23</th>\n      <td>315</td>\n      <td>MPC</td>\n      <td>55.800</td>\n      <td>2.365727</td>\n      <td>3584</td>\n    </tr>\n    <tr>\n      <th>24</th>\n      <td>278</td>\n      <td>LEN</td>\n      <td>99.170</td>\n      <td>2.34528</td>\n      <td>2016</td>\n    </tr>\n    <tr>\n      <th>25</th>\n      <td>253</td>\n      <td>IVZ</td>\n      <td>24.070</td>\n      <td>2.343483</td>\n      <td>8309</td>\n    </tr>\n    <tr>\n      <th>26</th>\n      <td>384</td>\n      <td>PVH</td>\n      <td>99.404</td>\n      <td>2.286386</td>\n      <td>2011</td>\n    </tr>\n    <tr>\n      <th>27</th>\n      <td>128</td>\n      <td>DE</td>\n      <td>381.060</td>\n      <td>2.284287</td>\n      <td>524</td>\n    </tr>\n    <tr>\n      <th>28</th>\n      <td>349</td>\n      <td>NWSA</td>\n      <td>25.990</td>\n      <td>2.252475</td>\n      <td>7695</td>\n    </tr>\n    <tr>\n      <th>29</th>\n      <td>203</td>\n      <td>GM</td>\n      <td>57.120</td>\n      <td>2.251462</td>\n      <td>3501</td>\n    </tr>\n    <tr>\n      <th>30</th>\n      <td>369</td>\n      <td>PH</td>\n      <td>323.210</td>\n      <td>2.230593</td>\n      <td>618</td>\n    </tr>\n    <tr>\n      <th>31</th>\n      <td>185</td>\n      <td>FITB</td>\n      <td>37.440</td>\n      <td>2.219267</td>\n      <td>5341</td>\n    </tr>\n    <tr>\n      <th>32</th>\n      <td>426</td>\n      <td>SYF</td>\n      <td>40.751</td>\n      <td>2.14695</td>\n      <td>4907</td>\n    </tr>\n    <tr>\n      <th>33</th>\n      <td>317</td>\n      <td>MRO</td>\n      <td>10.900</td>\n      <td>2.121074</td>\n      <td>18348</td>\n    </tr>\n    <tr>\n      <th>34</th>\n      <td>348</td>\n      <td>NWS</td>\n      <td>24.280</td>\n      <td>2.098678</td>\n      <td>8237</td>\n    </tr>\n    <tr>\n      <th>35</th>\n      <td>174</td>\n      <td>F</td>\n      <td>12.570</td>\n      <td>2.072875</td>\n      <td>15910</td>\n    </tr>\n    <tr>\n      <th>36</th>\n      <td>282</td>\n      <td>LKQ</td>\n      <td>43.910</td>\n      <td>2.035645</td>\n      <td>4554</td>\n    </tr>\n    <tr>\n      <th>37</th>\n      <td>45</td>\n      <td>APTV</td>\n      <td>146.400</td>\n      <td>2.026869</td>\n      <td>1366</td>\n    </tr>\n    <tr>\n      <th>38</th>\n      <td>29</td>\n      <td>AMAT</td>\n      <td>125.150</td>\n      <td>2.019307</td>\n      <td>1598</td>\n    </tr>\n    <tr>\n      <th>39</th>\n      <td>390</td>\n      <td>RCL</td>\n      <td>87.421</td>\n      <td>2.003768</td>\n      <td>2287</td>\n    </tr>\n    <tr>\n      <th>40</th>\n      <td>23</td>\n      <td>ALB</td>\n      <td>156.600</td>\n      <td>2.001264</td>\n      <td>1277</td>\n    </tr>\n    <tr>\n      <th>41</th>\n      <td>318</td>\n      <td>MS</td>\n      <td>82.510</td>\n      <td>1.982426</td>\n      <td>2423</td>\n    </tr>\n    <tr>\n      <th>42</th>\n      <td>106</td>\n      <td>COF</td>\n      <td>126.000</td>\n      <td>1.963547</td>\n      <td>1587</td>\n    </tr>\n    <tr>\n      <th>43</th>\n      <td>158</td>\n      <td>EMN</td>\n      <td>112.290</td>\n      <td>1.940791</td>\n      <td>1781</td>\n    </tr>\n    <tr>\n      <th>44</th>\n      <td>288</td>\n      <td>LRCX</td>\n      <td>561.920</td>\n      <td>1.938554</td>\n      <td>355</td>\n    </tr>\n    <tr>\n      <th>45</th>\n      <td>306</td>\n      <td>MHK</td>\n      <td>187.430</td>\n      <td>1.916764</td>\n      <td>1067</td>\n    </tr>\n    <tr>\n      <th>46</th>\n      <td>387</td>\n      <td>PYPL</td>\n      <td>248.810</td>\n      <td>1.895237</td>\n      <td>803</td>\n    </tr>\n    <tr>\n      <th>47</th>\n      <td>132</td>\n      <td>DHI</td>\n      <td>85.320</td>\n      <td>1.892309</td>\n      <td>2344</td>\n    </tr>\n    <tr>\n      <th>48</th>\n      <td>90</td>\n      <td>CFG</td>\n      <td>44.960</td>\n      <td>1.840247</td>\n      <td>4448</td>\n    </tr>\n    <tr>\n      <th>49</th>\n      <td>453</td>\n      <td>UAA</td>\n      <td>23.507</td>\n      <td>1.822771</td>\n      <td>8508</td>\n    </tr>\n  </tbody>\n</table>\n</div>"
     },
     "metadata": {},
     "execution_count": 9
    }
   ],
   "source": [
    "position_size = float(portfolio_size)/len(final_dataframe.index)\n",
    "print(position_size)\n",
    "for i in range(0, len(final_dataframe)):\n",
    "    final_dataframe.loc[i, 'Number of Shares to Buy'] = math.floor(position_size/final_dataframe.loc[i, 'Price'])\n",
    "\n",
    "final_dataframe"
   ]
  },
  {
   "cell_type": "markdown",
   "metadata": {},
   "source": [
    "## Building a Better (and More Realistic) Momentum Strategy\n",
    "\n",
    "Real-world quantitative investment firms differentiate between \"high quality\" and \"low quality\" momentum stocks:\n",
    "\n",
    "* High-quality momentum stocks show \"slow and steady\" outperformance over long periods of time\n",
    "* Low-quality momentum stocks might not show any momentum for a long time, and then surge upwards.\n",
    "\n",
    "The reason why high-quality momentum stocks are preferred is because low-quality momentum can often be cause by short-term news that is unlikely to be repeated in the future (such as an FDA approval for a biotechnology company).\n",
    "\n",
    "To identify high-quality momentum, we're going to build a strategy that selects stocks from the highest percentiles of: \n",
    "\n",
    "* 1-month price returns\n",
    "* 3-month price returns\n",
    "* 6-month price returns\n",
    "* 1-year price returns\n",
    "\n",
    "Let's start by building our DataFrame. You'll notice that I use the abbreviation `hqm` often. It stands for `high-quality momentum`."
   ]
  },
  {
   "cell_type": "code",
   "execution_count": 10,
   "metadata": {},
   "outputs": [
    {
     "output_type": "execute_result",
     "data": {
      "text/plain": [
       "    Ticker    Price Number of Shares to Buy One-Year Price Return  \\\n",
       "0        A  121.510                     N/A              0.984048   \n",
       "1      AAL   23.436                     N/A              1.185372   \n",
       "2      AAP  192.099                     N/A              1.331747   \n",
       "3     AAPL  126.840                     N/A              1.211654   \n",
       "4     ABBV  105.530                     N/A              0.713458   \n",
       "..     ...      ...                     ...                   ...   \n",
       "500    YUM  111.990                     N/A              0.952271   \n",
       "501    ZBH  163.860                     N/A              0.993701   \n",
       "502   ZBRA  466.256                     N/A              1.756638   \n",
       "503   ZION   56.599                     N/A              1.312602   \n",
       "504    ZTS  159.674                     N/A              0.696714   \n",
       "\n",
       "    One-Year Return Percentile Six-Month Price Return  \\\n",
       "0                          N/A               0.273631   \n",
       "1                          N/A               0.885371   \n",
       "2                          N/A               0.238558   \n",
       "3                          N/A               0.151244   \n",
       "4                          N/A               0.239919   \n",
       "..                         ...                    ...   \n",
       "500                        N/A               0.218726   \n",
       "501                        N/A               0.177407   \n",
       "502                        N/A               0.885281   \n",
       "503                        N/A               0.945405   \n",
       "504                        N/A              -0.020119   \n",
       "\n",
       "    Six-Month Return Percentile Three-Month Price Return  \\\n",
       "0                           N/A                 0.042235   \n",
       "1                           N/A                  0.40611   \n",
       "2                           N/A                 0.133238   \n",
       "3                           N/A                -0.063199   \n",
       "4                           N/A                 0.027633   \n",
       "..                          ...                      ...   \n",
       "500                         N/A                 0.016366   \n",
       "501                         N/A                 0.050126   \n",
       "502                         N/A                 0.226986   \n",
       "503                         N/A                 0.241317   \n",
       "504                         N/A                 -0.02388   \n",
       "\n",
       "    Three-Month Return Percentile One-Month Price Return  \\\n",
       "0                             N/A              -0.003699   \n",
       "1                             N/A               0.081586   \n",
       "2                             N/A               0.085614   \n",
       "3                             N/A              -0.026958   \n",
       "4                             N/A              -0.013911   \n",
       "..                            ...                    ...   \n",
       "500                           N/A                 0.0324   \n",
       "501                           N/A              -0.036589   \n",
       "502                           N/A               -0.07144   \n",
       "503                           N/A               -0.01117   \n",
       "504                           N/A              -0.022663   \n",
       "\n",
       "    One-Month Return Percentile HQM Score  \n",
       "0                           N/A       N/A  \n",
       "1                           N/A       N/A  \n",
       "2                           N/A       N/A  \n",
       "3                           N/A       N/A  \n",
       "4                           N/A       N/A  \n",
       "..                          ...       ...  \n",
       "500                         N/A       N/A  \n",
       "501                         N/A       N/A  \n",
       "502                         N/A       N/A  \n",
       "503                         N/A       N/A  \n",
       "504                         N/A       N/A  \n",
       "\n",
       "[505 rows x 12 columns]"
      ],
      "text/html": "<div>\n<style scoped>\n    .dataframe tbody tr th:only-of-type {\n        vertical-align: middle;\n    }\n\n    .dataframe tbody tr th {\n        vertical-align: top;\n    }\n\n    .dataframe thead th {\n        text-align: right;\n    }\n</style>\n<table border=\"1\" class=\"dataframe\">\n  <thead>\n    <tr style=\"text-align: right;\">\n      <th></th>\n      <th>Ticker</th>\n      <th>Price</th>\n      <th>Number of Shares to Buy</th>\n      <th>One-Year Price Return</th>\n      <th>One-Year Return Percentile</th>\n      <th>Six-Month Price Return</th>\n      <th>Six-Month Return Percentile</th>\n      <th>Three-Month Price Return</th>\n      <th>Three-Month Return Percentile</th>\n      <th>One-Month Price Return</th>\n      <th>One-Month Return Percentile</th>\n      <th>HQM Score</th>\n    </tr>\n  </thead>\n  <tbody>\n    <tr>\n      <th>0</th>\n      <td>A</td>\n      <td>121.510</td>\n      <td>N/A</td>\n      <td>0.984048</td>\n      <td>N/A</td>\n      <td>0.273631</td>\n      <td>N/A</td>\n      <td>0.042235</td>\n      <td>N/A</td>\n      <td>-0.003699</td>\n      <td>N/A</td>\n      <td>N/A</td>\n    </tr>\n    <tr>\n      <th>1</th>\n      <td>AAL</td>\n      <td>23.436</td>\n      <td>N/A</td>\n      <td>1.185372</td>\n      <td>N/A</td>\n      <td>0.885371</td>\n      <td>N/A</td>\n      <td>0.40611</td>\n      <td>N/A</td>\n      <td>0.081586</td>\n      <td>N/A</td>\n      <td>N/A</td>\n    </tr>\n    <tr>\n      <th>2</th>\n      <td>AAP</td>\n      <td>192.099</td>\n      <td>N/A</td>\n      <td>1.331747</td>\n      <td>N/A</td>\n      <td>0.238558</td>\n      <td>N/A</td>\n      <td>0.133238</td>\n      <td>N/A</td>\n      <td>0.085614</td>\n      <td>N/A</td>\n      <td>N/A</td>\n    </tr>\n    <tr>\n      <th>3</th>\n      <td>AAPL</td>\n      <td>126.840</td>\n      <td>N/A</td>\n      <td>1.211654</td>\n      <td>N/A</td>\n      <td>0.151244</td>\n      <td>N/A</td>\n      <td>-0.063199</td>\n      <td>N/A</td>\n      <td>-0.026958</td>\n      <td>N/A</td>\n      <td>N/A</td>\n    </tr>\n    <tr>\n      <th>4</th>\n      <td>ABBV</td>\n      <td>105.530</td>\n      <td>N/A</td>\n      <td>0.713458</td>\n      <td>N/A</td>\n      <td>0.239919</td>\n      <td>N/A</td>\n      <td>0.027633</td>\n      <td>N/A</td>\n      <td>-0.013911</td>\n      <td>N/A</td>\n      <td>N/A</td>\n    </tr>\n    <tr>\n      <th>...</th>\n      <td>...</td>\n      <td>...</td>\n      <td>...</td>\n      <td>...</td>\n      <td>...</td>\n      <td>...</td>\n      <td>...</td>\n      <td>...</td>\n      <td>...</td>\n      <td>...</td>\n      <td>...</td>\n      <td>...</td>\n    </tr>\n    <tr>\n      <th>500</th>\n      <td>YUM</td>\n      <td>111.990</td>\n      <td>N/A</td>\n      <td>0.952271</td>\n      <td>N/A</td>\n      <td>0.218726</td>\n      <td>N/A</td>\n      <td>0.016366</td>\n      <td>N/A</td>\n      <td>0.0324</td>\n      <td>N/A</td>\n      <td>N/A</td>\n    </tr>\n    <tr>\n      <th>501</th>\n      <td>ZBH</td>\n      <td>163.860</td>\n      <td>N/A</td>\n      <td>0.993701</td>\n      <td>N/A</td>\n      <td>0.177407</td>\n      <td>N/A</td>\n      <td>0.050126</td>\n      <td>N/A</td>\n      <td>-0.036589</td>\n      <td>N/A</td>\n      <td>N/A</td>\n    </tr>\n    <tr>\n      <th>502</th>\n      <td>ZBRA</td>\n      <td>466.256</td>\n      <td>N/A</td>\n      <td>1.756638</td>\n      <td>N/A</td>\n      <td>0.885281</td>\n      <td>N/A</td>\n      <td>0.226986</td>\n      <td>N/A</td>\n      <td>-0.07144</td>\n      <td>N/A</td>\n      <td>N/A</td>\n    </tr>\n    <tr>\n      <th>503</th>\n      <td>ZION</td>\n      <td>56.599</td>\n      <td>N/A</td>\n      <td>1.312602</td>\n      <td>N/A</td>\n      <td>0.945405</td>\n      <td>N/A</td>\n      <td>0.241317</td>\n      <td>N/A</td>\n      <td>-0.01117</td>\n      <td>N/A</td>\n      <td>N/A</td>\n    </tr>\n    <tr>\n      <th>504</th>\n      <td>ZTS</td>\n      <td>159.674</td>\n      <td>N/A</td>\n      <td>0.696714</td>\n      <td>N/A</td>\n      <td>-0.020119</td>\n      <td>N/A</td>\n      <td>-0.02388</td>\n      <td>N/A</td>\n      <td>-0.022663</td>\n      <td>N/A</td>\n      <td>N/A</td>\n    </tr>\n  </tbody>\n</table>\n<p>505 rows × 12 columns</p>\n</div>"
     },
     "metadata": {},
     "execution_count": 10
    }
   ],
   "source": [
    "hqm_columns = [\n",
    "                'Ticker', \n",
    "                'Price', \n",
    "                'Number of Shares to Buy', \n",
    "                'One-Year Price Return', \n",
    "                'One-Year Return Percentile',\n",
    "                'Six-Month Price Return',\n",
    "                'Six-Month Return Percentile',\n",
    "                'Three-Month Price Return',\n",
    "                'Three-Month Return Percentile',\n",
    "                'One-Month Price Return',\n",
    "                'One-Month Return Percentile',\n",
    "                'HQM Score'\n",
    "                ]\n",
    "\n",
    "hqm_dataframe = pd.DataFrame(columns = hqm_columns)\n",
    "\n",
    "for symbol_string in symbol_strings:\n",
    "#     print(symbol_strings)\n",
    "    batch_api_call_url = f'https://sandbox.iexapis.com/stable/stock/market/batch/?types=stats,quote&symbols={symbol_string}&token={IEX_CLOUD_API_TOKEN}'\n",
    "    data = requests.get(batch_api_call_url).json()\n",
    "    for symbol in symbol_string.split(','):\n",
    "        hqm_dataframe = hqm_dataframe.append(\n",
    "                                        pd.Series([symbol, \n",
    "                                                   data[symbol]['quote']['latestPrice'],\n",
    "                                                   'N/A',\n",
    "                                                   data[symbol]['stats']['year1ChangePercent'],\n",
    "                                                   'N/A',\n",
    "                                                   data[symbol]['stats']['month6ChangePercent'],\n",
    "                                                   'N/A',\n",
    "                                                   data[symbol]['stats']['month3ChangePercent'],\n",
    "                                                   'N/A',\n",
    "                                                   data[symbol]['stats']['month1ChangePercent'],\n",
    "                                                   'N/A',\n",
    "                                                   'N/A'\n",
    "                                                   ], \n",
    "                                                  index = hqm_columns), \n",
    "                                        ignore_index = True)\n",
    "        \n",
    "hqm_dataframe"
   ]
  },
  {
   "cell_type": "markdown",
   "metadata": {},
   "source": [
    "## Calculating Momentum Percentiles\n",
    "\n",
    "We now need to calculate momentum percentile scores for every stock in the universe. More specifically, we need to calculate percentile scores for the following metrics for every stock:\n",
    "\n",
    "* `One-Year Price Return`\n",
    "* `Six-Month Price Return`\n",
    "* `Three-Month Price Return`\n",
    "* `One-Month Price Return`\n",
    "\n",
    "Here's how we'll do this:"
   ]
  },
  {
   "cell_type": "code",
   "execution_count": 15,
   "metadata": {
    "tags": []
   },
   "outputs": [
    {
     "output_type": "execute_result",
     "data": {
      "text/plain": [
       "    Ticker    Price Number of Shares to Buy  One-Year Price Return  \\\n",
       "0        A  121.510                     N/A               0.984048   \n",
       "1      AAL   23.436                     N/A               1.185372   \n",
       "2      AAP  192.099                     N/A               1.331747   \n",
       "3     AAPL  126.840                     N/A               1.211654   \n",
       "4     ABBV  105.530                     N/A               0.713458   \n",
       "..     ...      ...                     ...                    ...   \n",
       "500    YUM  111.990                     N/A               0.952271   \n",
       "501    ZBH  163.860                     N/A               0.993701   \n",
       "502   ZBRA  466.256                     N/A               1.756638   \n",
       "503   ZION   56.599                     N/A               1.312602   \n",
       "504    ZTS  159.674                     N/A               0.696714   \n",
       "\n",
       "     One-Year Return Percentile  Six-Month Price Return  \\\n",
       "0                     58.613861                0.273631   \n",
       "1                     69.900990                0.885371   \n",
       "2                     76.435644                0.238558   \n",
       "3                     71.089109                0.151244   \n",
       "4                     38.019802                0.239919   \n",
       "..                          ...                     ...   \n",
       "500                   55.445545                0.218726   \n",
       "501                   59.603960                0.177407   \n",
       "502                   89.108911                0.885281   \n",
       "503                   75.841584                0.945405   \n",
       "504                   36.039604               -0.020119   \n",
       "\n",
       "     Six-Month Return Percentile  Three-Month Price Return  \\\n",
       "0                      51.485149                  0.042235   \n",
       "1                      94.653465                  0.406110   \n",
       "2                      44.752475                  0.133238   \n",
       "3                      31.089109                 -0.063199   \n",
       "4                      44.950495                  0.027633   \n",
       "..                           ...                       ...   \n",
       "500                    40.990099                  0.016366   \n",
       "501                    35.841584                  0.050126   \n",
       "502                    94.455446                  0.226986   \n",
       "503                    95.841584                  0.241317   \n",
       "504                     5.346535                 -0.023880   \n",
       "\n",
       "     Three-Month Return Percentile  One-Month Price Return  \\\n",
       "0                        36.039604               -0.003699   \n",
       "1                        97.227723                0.081586   \n",
       "2                        63.960396                0.085614   \n",
       "3                         7.722772               -0.026958   \n",
       "4                        30.099010               -0.013911   \n",
       "..                             ...                     ...   \n",
       "500                      26.138614                0.032400   \n",
       "501                      38.019802               -0.036589   \n",
       "502                      84.356436               -0.071440   \n",
       "503                      86.138614               -0.011170   \n",
       "504                      13.861386               -0.022663   \n",
       "\n",
       "     One-Month Return Percentile HQM Score  \n",
       "0                      35.445545       N/A  \n",
       "1                      87.722772       N/A  \n",
       "2                      88.712871       N/A  \n",
       "3                      22.376238       N/A  \n",
       "4                      28.118812       N/A  \n",
       "..                           ...       ...  \n",
       "500                    60.198020       N/A  \n",
       "501                    18.217822       N/A  \n",
       "502                     6.930693       N/A  \n",
       "503                    30.099010       N/A  \n",
       "504                    23.762376       N/A  \n",
       "\n",
       "[505 rows x 12 columns]"
      ],
      "text/html": "<div>\n<style scoped>\n    .dataframe tbody tr th:only-of-type {\n        vertical-align: middle;\n    }\n\n    .dataframe tbody tr th {\n        vertical-align: top;\n    }\n\n    .dataframe thead th {\n        text-align: right;\n    }\n</style>\n<table border=\"1\" class=\"dataframe\">\n  <thead>\n    <tr style=\"text-align: right;\">\n      <th></th>\n      <th>Ticker</th>\n      <th>Price</th>\n      <th>Number of Shares to Buy</th>\n      <th>One-Year Price Return</th>\n      <th>One-Year Return Percentile</th>\n      <th>Six-Month Price Return</th>\n      <th>Six-Month Return Percentile</th>\n      <th>Three-Month Price Return</th>\n      <th>Three-Month Return Percentile</th>\n      <th>One-Month Price Return</th>\n      <th>One-Month Return Percentile</th>\n      <th>HQM Score</th>\n    </tr>\n  </thead>\n  <tbody>\n    <tr>\n      <th>0</th>\n      <td>A</td>\n      <td>121.510</td>\n      <td>N/A</td>\n      <td>0.984048</td>\n      <td>58.613861</td>\n      <td>0.273631</td>\n      <td>51.485149</td>\n      <td>0.042235</td>\n      <td>36.039604</td>\n      <td>-0.003699</td>\n      <td>35.445545</td>\n      <td>N/A</td>\n    </tr>\n    <tr>\n      <th>1</th>\n      <td>AAL</td>\n      <td>23.436</td>\n      <td>N/A</td>\n      <td>1.185372</td>\n      <td>69.900990</td>\n      <td>0.885371</td>\n      <td>94.653465</td>\n      <td>0.406110</td>\n      <td>97.227723</td>\n      <td>0.081586</td>\n      <td>87.722772</td>\n      <td>N/A</td>\n    </tr>\n    <tr>\n      <th>2</th>\n      <td>AAP</td>\n      <td>192.099</td>\n      <td>N/A</td>\n      <td>1.331747</td>\n      <td>76.435644</td>\n      <td>0.238558</td>\n      <td>44.752475</td>\n      <td>0.133238</td>\n      <td>63.960396</td>\n      <td>0.085614</td>\n      <td>88.712871</td>\n      <td>N/A</td>\n    </tr>\n    <tr>\n      <th>3</th>\n      <td>AAPL</td>\n      <td>126.840</td>\n      <td>N/A</td>\n      <td>1.211654</td>\n      <td>71.089109</td>\n      <td>0.151244</td>\n      <td>31.089109</td>\n      <td>-0.063199</td>\n      <td>7.722772</td>\n      <td>-0.026958</td>\n      <td>22.376238</td>\n      <td>N/A</td>\n    </tr>\n    <tr>\n      <th>4</th>\n      <td>ABBV</td>\n      <td>105.530</td>\n      <td>N/A</td>\n      <td>0.713458</td>\n      <td>38.019802</td>\n      <td>0.239919</td>\n      <td>44.950495</td>\n      <td>0.027633</td>\n      <td>30.099010</td>\n      <td>-0.013911</td>\n      <td>28.118812</td>\n      <td>N/A</td>\n    </tr>\n    <tr>\n      <th>...</th>\n      <td>...</td>\n      <td>...</td>\n      <td>...</td>\n      <td>...</td>\n      <td>...</td>\n      <td>...</td>\n      <td>...</td>\n      <td>...</td>\n      <td>...</td>\n      <td>...</td>\n      <td>...</td>\n      <td>...</td>\n    </tr>\n    <tr>\n      <th>500</th>\n      <td>YUM</td>\n      <td>111.990</td>\n      <td>N/A</td>\n      <td>0.952271</td>\n      <td>55.445545</td>\n      <td>0.218726</td>\n      <td>40.990099</td>\n      <td>0.016366</td>\n      <td>26.138614</td>\n      <td>0.032400</td>\n      <td>60.198020</td>\n      <td>N/A</td>\n    </tr>\n    <tr>\n      <th>501</th>\n      <td>ZBH</td>\n      <td>163.860</td>\n      <td>N/A</td>\n      <td>0.993701</td>\n      <td>59.603960</td>\n      <td>0.177407</td>\n      <td>35.841584</td>\n      <td>0.050126</td>\n      <td>38.019802</td>\n      <td>-0.036589</td>\n      <td>18.217822</td>\n      <td>N/A</td>\n    </tr>\n    <tr>\n      <th>502</th>\n      <td>ZBRA</td>\n      <td>466.256</td>\n      <td>N/A</td>\n      <td>1.756638</td>\n      <td>89.108911</td>\n      <td>0.885281</td>\n      <td>94.455446</td>\n      <td>0.226986</td>\n      <td>84.356436</td>\n      <td>-0.071440</td>\n      <td>6.930693</td>\n      <td>N/A</td>\n    </tr>\n    <tr>\n      <th>503</th>\n      <td>ZION</td>\n      <td>56.599</td>\n      <td>N/A</td>\n      <td>1.312602</td>\n      <td>75.841584</td>\n      <td>0.945405</td>\n      <td>95.841584</td>\n      <td>0.241317</td>\n      <td>86.138614</td>\n      <td>-0.011170</td>\n      <td>30.099010</td>\n      <td>N/A</td>\n    </tr>\n    <tr>\n      <th>504</th>\n      <td>ZTS</td>\n      <td>159.674</td>\n      <td>N/A</td>\n      <td>0.696714</td>\n      <td>36.039604</td>\n      <td>-0.020119</td>\n      <td>5.346535</td>\n      <td>-0.023880</td>\n      <td>13.861386</td>\n      <td>-0.022663</td>\n      <td>23.762376</td>\n      <td>N/A</td>\n    </tr>\n  </tbody>\n</table>\n<p>505 rows × 12 columns</p>\n</div>"
     },
     "metadata": {},
     "execution_count": 15
    }
   ],
   "source": [
    "time_periods = [\n",
    "    'One-Year',\n",
    "    'Six-Month',\n",
    "    'Three-Month',\n",
    "    'One-Month'\n",
    "]\n",
    "\n",
    "hqm_dataframe.fillna(value=0, inplace=True)\n",
    "\n",
    "for row in hqm_dataframe.index:\n",
    "    for time_period in time_periods:\n",
    "        change_col = f'{time_period} Price Return'\n",
    "        percentile_col = f'{time_period} Return Percentile'\n",
    "        hqm_dataframe.loc[row, percentile_col] = score(hqm_dataframe[change_col], hqm_dataframe.loc[row, change_col])\n",
    "\n",
    "hqm_dataframe"
   ]
  },
  {
   "cell_type": "markdown",
   "metadata": {},
   "source": [
    "## Calculating the HQM Score\n",
    "\n",
    "We'll now calculate our `HQM Score`, which is the high-quality momentum score that we'll use to filter for stocks in this investing strategy.\n",
    "\n",
    "The `HQM Score` will be the arithmetic mean of the 4 momentum percentile scores that we calculated in the last section.\n",
    "\n",
    "To calculate arithmetic mean, we will use the `mean` function from Python's built-in `statistics` module."
   ]
  },
  {
   "cell_type": "code",
   "execution_count": null,
   "metadata": {},
   "outputs": [],
   "source": []
  },
  {
   "cell_type": "markdown",
   "metadata": {},
   "source": [
    "## Selecting the 50 Best Momentum Stocks\n",
    "\n",
    "As before, we can identify the 50 best momentum stocks in our universe by sorting the DataFrame on the `HQM Score` column and dropping all but the top 50 entries."
   ]
  },
  {
   "cell_type": "code",
   "execution_count": null,
   "metadata": {},
   "outputs": [],
   "source": []
  },
  {
   "cell_type": "markdown",
   "metadata": {},
   "source": [
    "## Calculating the Number of Shares to Buy\n",
    "\n",
    "We'll use the `portfolio_input` function that we created earlier to accept our portfolio size. Then we will use similar logic in a `for` loop to calculate the number of shares to buy for each stock in our investment universe."
   ]
  },
  {
   "cell_type": "code",
   "execution_count": null,
   "metadata": {},
   "outputs": [],
   "source": []
  },
  {
   "cell_type": "code",
   "execution_count": null,
   "metadata": {},
   "outputs": [],
   "source": []
  },
  {
   "cell_type": "markdown",
   "metadata": {},
   "source": [
    "## Formatting Our Excel Output\n",
    "\n",
    "We will be using the XlsxWriter library for Python to create nicely-formatted Excel files.\n",
    "\n",
    "XlsxWriter is an excellent package and offers tons of customization. However, the tradeoff for this is that the library can seem very complicated to new users. Accordingly, this section will be fairly long because I want to do a good job of explaining how XlsxWriter works."
   ]
  },
  {
   "cell_type": "code",
   "execution_count": null,
   "metadata": {},
   "outputs": [],
   "source": []
  },
  {
   "cell_type": "markdown",
   "metadata": {},
   "source": [
    "## Creating the Formats We'll Need For Our .xlsx File\n",
    "\n",
    "You'll recall from our first project that formats include colors, fonts, and also symbols like % and $. We'll need four main formats for our Excel document:\n",
    "\n",
    "* String format for tickers\n",
    "* \\$XX.XX format for stock prices\n",
    "* \\$XX,XXX format for market capitalization\n",
    "* Integer format for the number of shares to purchase\n",
    "\n",
    "Since we already built our formats in the last section of this course, I've included them below for you. Run this code cell before proceeding."
   ]
  },
  {
   "cell_type": "code",
   "execution_count": 12,
   "metadata": {},
   "outputs": [
    {
     "output_type": "error",
     "ename": "NameError",
     "evalue": "name 'writer' is not defined",
     "traceback": [
      "\u001b[1;31m---------------------------------------------------------------------------\u001b[0m",
      "\u001b[1;31mNameError\u001b[0m                                 Traceback (most recent call last)",
      "\u001b[1;32m<ipython-input-12-929b75216063>\u001b[0m in \u001b[0;36m<module>\u001b[1;34m\u001b[0m\n\u001b[0;32m      2\u001b[0m \u001b[0mfont_color\u001b[0m \u001b[1;33m=\u001b[0m \u001b[1;34m'#ffffff'\u001b[0m\u001b[1;33m\u001b[0m\u001b[1;33m\u001b[0m\u001b[0m\n\u001b[0;32m      3\u001b[0m \u001b[1;33m\u001b[0m\u001b[0m\n\u001b[1;32m----> 4\u001b[1;33m string_template = writer.book.add_format(\n\u001b[0m\u001b[0;32m      5\u001b[0m         {\n\u001b[0;32m      6\u001b[0m             \u001b[1;34m'font_color'\u001b[0m\u001b[1;33m:\u001b[0m \u001b[0mfont_color\u001b[0m\u001b[1;33m,\u001b[0m\u001b[1;33m\u001b[0m\u001b[1;33m\u001b[0m\u001b[0m\n",
      "\u001b[1;31mNameError\u001b[0m: name 'writer' is not defined"
     ]
    }
   ],
   "source": [
    "background_color = '#0a0a23'\n",
    "font_color = '#ffffff'\n",
    "\n",
    "string_template = writer.book.add_format(\n",
    "        {\n",
    "            'font_color': font_color,\n",
    "            'bg_color': background_color,\n",
    "            'border': 1\n",
    "        }\n",
    "    )\n",
    "\n",
    "dollar_template = writer.book.add_format(\n",
    "        {\n",
    "            'num_format':'$0.00',\n",
    "            'font_color': font_color,\n",
    "            'bg_color': background_color,\n",
    "            'border': 1\n",
    "        }\n",
    "    )\n",
    "\n",
    "integer_template = writer.book.add_format(\n",
    "        {\n",
    "            'num_format':'0',\n",
    "            'font_color': font_color,\n",
    "            'bg_color': background_color,\n",
    "            'border': 1\n",
    "        }\n",
    "    )\n",
    "\n",
    "percent_template = writer.book.add_format(\n",
    "        {\n",
    "            'num_format':'0.0%',\n",
    "            'font_color': font_color,\n",
    "            'bg_color': background_color,\n",
    "            'border': 1\n",
    "        }\n",
    "    )"
   ]
  },
  {
   "cell_type": "code",
   "execution_count": null,
   "metadata": {},
   "outputs": [],
   "source": []
  },
  {
   "cell_type": "markdown",
   "metadata": {},
   "source": [
    "## Saving Our Excel Output\n",
    "\n",
    "As before, saving our Excel output is very easy:"
   ]
  },
  {
   "cell_type": "code",
   "execution_count": null,
   "metadata": {},
   "outputs": [],
   "source": []
  }
 ],
 "metadata": {
  "kernelspec": {
   "name": "python3",
   "display_name": "Python 3.9.2 64-bit ('.virtualenv')",
   "metadata": {
    "interpreter": {
     "hash": "7f9a06160b0956bfec540404d5fbd7aad081bc795e7084e6054723b5e691efe2"
    }
   }
  },
  "language_info": {
   "codemirror_mode": {
    "name": "ipython",
    "version": 3
   },
   "file_extension": ".py",
   "mimetype": "text/x-python",
   "name": "python",
   "nbconvert_exporter": "python",
   "pygments_lexer": "ipython3",
   "version": "3.9.2-final"
  }
 },
 "nbformat": 4,
 "nbformat_minor": 4
}